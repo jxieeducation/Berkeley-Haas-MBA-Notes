{
 "cells": [
  {
   "cell_type": "markdown",
   "metadata": {},
   "source": [
    "## Interesting quotes\n",
    "* I can guarantee that there will be losers, but I cannot guarantee that there will be winners\n",
    "* If you are going to invest something, maybe invest in something that you can’t understand. Because if you can figure it out easily, maybe everyone else can as well\n",
    "* If only there is a way to tie something from the physical world to a coin. \n",
    "* There is no customer discovery process for biotech. Imagine an entrepreneur: \"Hey, you there with cystic fibrosis, do you want to be cured from an early death?\" Patients just never go \"Nah, I am good.\"\n",
    "* The hardest people to change are physicians\n",
    "* Don't ever forget that patients are not customers, they are merely beneficiaries.\n",
    "* This is unfortunately a largely capitalist world.\n",
    "* [On gene therapy] Your children are going to be glow in the dark children, so you can find them!"
   ]
  },
  {
   "cell_type": "markdown",
   "metadata": {},
   "source": [
    "## Coinbase\n",
    "* RSA (the company) -> biz model: enabler / encryption for money\n",
    "    * Coinbase is very similar to RSA in that it's biz model is basically enablement\n",
    "* ledger - all the transactions - you have annonymity for transactions\n",
    "* distributed computing - decentralized (efficient)\n",
    "* bitcoin is **not** a currency, but an asset (e.g. buying a basketball team)\n",
    "* fed is thinking of creating their own coin, since they can't regular bitcoin\n",
    "* coinbase - money to bitcoin - and bitcoin to bitcoin (strong incentive to keep bitcoin to bitcoin)\n",
    "    * (basically a broker)\n",
    "    * charge transaction fees\n",
    "    * pump transactions - e.g. make good applications, APIs \n",
    "* Etherem - both a coin and a platform (going to be discussing the platform)\n",
    "    * enable people to create their own coin\n",
    "    * a share is an asset that gives people a right to a company\n",
    "    * what do you for an IPO? an **underwriter** - coinlist"
   ]
  },
  {
   "cell_type": "markdown",
   "metadata": {},
   "source": [
    "## Intellia - Gene splicing\n",
    "* CRISPR CAS9 - reagents / genome in human body\n",
    "* usual gene splicing biz model: 1. raise money 2. get acq by big pockets\n",
    "* founding team needs to be super high quality e.g. md, phd, mba\n",
    "* prescription / drug - highly regulated \n",
    "* therapy - less - can modify therapy to the patient\n",
    "* platform model - liscence tech to enable other cures e.g. liscence CRISPR CAS9 for a company to do it for blood specifically\n",
    "* Editas - another CRISPR company that went public\n",
    "    * the \"partner\" on their site is basically a liscence / platform model"
   ]
  },
  {
   "cell_type": "code",
   "execution_count": null,
   "metadata": {
    "collapsed": true
   },
   "outputs": [],
   "source": []
  }
 ],
 "metadata": {
  "kernelspec": {
   "display_name": "Python 2",
   "language": "python",
   "name": "python2"
  },
  "language_info": {
   "codemirror_mode": {
    "name": "ipython",
    "version": 2
   },
   "file_extension": ".py",
   "mimetype": "text/x-python",
   "name": "python",
   "nbconvert_exporter": "python",
   "pygments_lexer": "ipython2",
   "version": "2.7.13"
  }
 },
 "nbformat": 4,
 "nbformat_minor": 2
}
