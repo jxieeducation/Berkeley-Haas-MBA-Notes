{
 "cells": [
  {
   "cell_type": "markdown",
   "metadata": {},
   "source": [
    "## Interesting Quotes\n",
    "* Big companies add features to compete, not to benefit users\n",
    "* When thinking of starting a company, think about the 4 types of customers and build a strategy around it\n",
    "* at the end of the day, Coursera is simply a content business, much like Buzzfeed or a regular blog\n",
    "* Do you want to do advertising or account management? Maybe start looking at the CPC\n",
    "* Can you unbundle a MBA? Maybe get rid of the core and focus on the specialized courses!"
   ]
  },
  {
   "cell_type": "markdown",
   "metadata": {},
   "source": [
    "## Entrepreneurial Strategy\n",
    "\n",
    "### 4 types of customers\n",
    "1. perfectly served\n",
    "    * hard to get to switch\n",
    "2. overshot customer\n",
    "    * e.g. complicated vacuum, cable TV, b2b example - Oracle\n",
    "    * classic entrepreneurship\n",
    "3. undershot customer\n",
    "    * e.g. veggie burger\n",
    "    * note: a customer is only undershot if he is searching / open for a better solution\n",
    "4. non-consumer\n",
    "    * can't afford the product - e.g. tesla\n",
    "    * not available - e.g. European public transportation"
   ]
  },
  {
   "cell_type": "markdown",
   "metadata": {},
   "source": [
    "* mattress startups:\n",
    "    * a lot: e.g. lisa, casper, purple, helix...etc.\n",
    "\n",
    "### how to get people to switch\n",
    "1. change brand attributes\n",
    "    * e.g. minivan -> chrysler minivan\n",
    "    * e.g. pixel phone vs iphone - just different branding / attributes\n",
    "2. defeature\n",
    "    * e.g. apple's user interface vs Microsoft\n",
    "    * e.g. Google's search w/ Yahoo\n",
    "3. bundle\n",
    "    * e.g. uber - added so much more than a cab\n",
    "4. lower prices, allow access\n",
    "    * e.g. Xerox copier machine\n",
    "\n",
    "* 2 and 3 are not necessarily decided by price, but price can determine it"
   ]
  },
  {
   "cell_type": "markdown",
   "metadata": {},
   "source": [
    "## Education case\n",
    "* perfectly served -> undergrad programs (note: caveat, each uni has different segmentations e.g. Asian American studies vs Haas)\n",
    "* undershot -> for profit e.g. univ Arizona\n",
    "* overshot -> IIT, Italian univ (free and everyone goes to college)\n",
    "* nonconsumers -> Nigeria, people who have jobs and don't need a degree"
   ]
  },
  {
   "cell_type": "markdown",
   "metadata": {},
   "source": [
    "## Coursera\n",
    "* 2010 - Stanford MOOC - 210M 2012\n",
    "* business model - partnership w/ univ - classes - rev share w/ faculty member who owns the course\n",
    "    1. 0 - 100, pay for certification\n",
    "    2. 500, specialization\n",
    "    3. subscription\n",
    "* just a content business\n",
    "* mostly undershot customers - location benefits, world class professors\n",
    "* certification also serves overshot -> debundling of classes / a la carte\n",
    "* customer acquistion cost - CAC\n",
    "    * $\\frac{total marketing spend}{total new customers}$\n",
    "    * or per acq calc: \n",
    "        * 5 cpc -> 10% conv -> 2% registration -> 50% start -> 15% finish -> 20% pay\n",
    "        * def can't buy CPC, because the cost is too high!\n",
    "* Do you want to do advertising or account management? Maybe start looking at the CPC"
   ]
  },
  {
   "cell_type": "markdown",
   "metadata": {},
   "source": [
    "## Udemy\n",
    "* course platform company -> makers make and acquires their own customer\n",
    "* not a content business, but a platform company\n",
    "* coursera is curation, udemy is crowd"
   ]
  },
  {
   "cell_type": "code",
   "execution_count": null,
   "metadata": {
    "collapsed": true
   },
   "outputs": [],
   "source": []
  }
 ],
 "metadata": {
  "kernelspec": {
   "display_name": "Python 2",
   "language": "python",
   "name": "python2"
  },
  "language_info": {
   "codemirror_mode": {
    "name": "ipython",
    "version": 2
   },
   "file_extension": ".py",
   "mimetype": "text/x-python",
   "name": "python",
   "nbconvert_exporter": "python",
   "pygments_lexer": "ipython2",
   "version": "2.7.13"
  }
 },
 "nbformat": 4,
 "nbformat_minor": 2
}
