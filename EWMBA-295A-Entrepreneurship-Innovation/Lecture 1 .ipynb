{
 "cells": [
  {
   "cell_type": "markdown",
   "metadata": {},
   "source": [
    "## Quotes\n",
    "* great entrepreneurs are not risk takers, they are people who mitigate extreme risk\n",
    "* Indigogo was once a class project, it originally started as a platform for independent musicians\n",
    "* You raise money by creating FOMO, fear of missing out\n",
    "* The dirty secret of Moore's Law is that there's no such law. Gordon Moore simply set an ambitious goal for his company, Intel, and its partners\n",
    "* Taxi drivers in France protested against Uber. Ironically, because no taxis were around, people started using Uber"
   ]
  },
  {
   "cell_type": "markdown",
   "metadata": {},
   "source": [
    "## Notes\n",
    "* can look at databases of uncommercialized research\n",
    "* Alums include Serena and Lily, IdeaPaint"
   ]
  },
  {
   "cell_type": "markdown",
   "metadata": {},
   "source": []
  }
 ],
 "metadata": {
  "kernelspec": {
   "display_name": "Python 2",
   "language": "python",
   "name": "python2"
  },
  "language_info": {
   "codemirror_mode": {
    "name": "ipython",
    "version": 2
   },
   "file_extension": ".py",
   "mimetype": "text/x-python",
   "name": "python",
   "nbconvert_exporter": "python",
   "pygments_lexer": "ipython2",
   "version": "2.7.13"
  }
 },
 "nbformat": 4,
 "nbformat_minor": 2
}
