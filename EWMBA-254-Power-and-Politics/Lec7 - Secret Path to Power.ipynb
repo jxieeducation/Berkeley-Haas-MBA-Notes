{
 "cells": [
  {
   "cell_type": "markdown",
   "metadata": {},
   "source": [
    "* what do Netflix, Keith Ferrazi, Robert Moses, Greyhound Busses, and perhaps you, have in common?\n",
    "    * Netflix - didn't win via mail delivery alone, but no late fees (they were video rental stores within a mile)\n",
    "    * Greyhound - sold bus biz, and transitioned to a primarily soap based biz\n",
    "    * Keith Ferrazzi - [src](http://money.cnn.com/2006/05/15/magazines/business2/welllikedsuccess/) joined Deloitte, but didn't do consulting, instead brought in deals"
   ]
  },
  {
   "cell_type": "markdown",
   "metadata": {},
   "source": [
    "* class approaches to performance\n",
    "    * goal directed\n",
    "        1. effectiveness - to what extent did you accomplish your goals\n",
    "        2. efficiency - minimizing ratio of inputs to outcomes\n",
    "        3. were your goals the right goals\n",
    "    * financial / technical indicators\n",
    "    * human relations\n",
    "        * if people know that you care about them, they improve performance\n",
    "    * resource dependence theory\n",
    "        * do you rely on something scarce? McDonalds needs potatos, so they got their own supply"
   ]
  },
  {
   "cell_type": "markdown",
   "metadata": {},
   "source": [
    "## Blank Sheet Performance / Interest Analysis - \"Stakeholder analysis\"\n",
    "* \"performance\" is compellingly meeting the interests of important others\n",
    "* if you meet their interests better than others do, you are likely to be seen a \"high performer\" whether your actions are your \"job\" or not\n",
    "* people often don't fully understand their own interests. Those that do, are more able to achieve them because they can generate more options that meet their interests\n",
    "* people don't fully understand others' interests\n",
    "* your critical stakeholders' interests identify resources you can identify and seek seek to control and are strategy sources of reward / coerive power\n",
    "* because people often don't fully understand own interestsd, you may help them \"discover\" interests that they don't know they already have"
   ]
  },
  {
   "cell_type": "markdown",
   "metadata": {},
   "source": [
    "### top down analysis\n",
    "* what do you want? \n",
    "    * why do you want it?\n",
    "        * why do you want that? ... (generate options)\n",
    "* as you move down the list:\n",
    "    * increase num options\n",
    "    * come closer to what you / target reall wants\n",
    "    * more likely to generate novel solns\n",
    "\n",
    "### bottom up analysis\n",
    "* top down solves for target's interests\n",
    "    * but target isn't always aware of their interests\n",
    "* bottom up - focuses on 2 big picture questions\n",
    "    * who are the important stakeholders\n",
    "    * how can they be satisfied \n",
    "\n",
    "* #1, who is on short list of stakeholders?\n",
    "    * which stakeholders can help / hurt yu? \n",
    "    * who do you want as a future stakeholder?\n",
    "* #2, how will you define performance / your interests?\n",
    "    * what makes them happy? can you make it happened?\n",
    "    * what makes them unhappy? can you make it go away? "
   ]
  },
  {
   "cell_type": "markdown",
   "metadata": {},
   "source": []
  }
 ],
 "metadata": {
  "kernelspec": {
   "display_name": "Python 2",
   "language": "python",
   "name": "python2"
  },
  "language_info": {
   "codemirror_mode": {
    "name": "ipython",
    "version": 2
   },
   "file_extension": ".py",
   "mimetype": "text/x-python",
   "name": "python",
   "nbconvert_exporter": "python",
   "pygments_lexer": "ipython2",
   "version": "2.7.13"
  }
 },
 "nbformat": 4,
 "nbformat_minor": 2
}
