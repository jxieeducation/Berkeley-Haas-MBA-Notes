{
 "cells": [
  {
   "cell_type": "markdown",
   "metadata": {},
   "source": [
    "### Terminal.io - Luke Finney\n",
    "* tech services company, busienss mdoel innovation\n",
    "* problem: high attrition and cost in bay area\n",
    "* identify tech hub and connect companies with engineers\n",
    "* talent, salary arbitrage from geo\n",
    "* terminal vs contract / freelancers?\n",
    "    * provide health care, workspace...etc.\n",
    "    * bundled services\n",
    "    * create a bunch of canadian companies that pass intellectual property to the parent company in US\n",
    "    * pulling off platform does happened, but 1 year lockin\n",
    "* why Canada and Brazil?\n",
    "    * lack brand, need to prove that Terminal provides high quality first\n",
    "    * currency arbitrage\n",
    "* **leadership**\n",
    "    * set aside ego and control, in order to bring on 2 veterans VCs with connections to make company successful"
   ]
  },
  {
   "cell_type": "markdown",
   "metadata": {},
   "source": [
    "### Team goals\n",
    "* challenge / problem\n",
    "* soln\n",
    "* market\n",
    "* biz model\n",
    "* \"magic\" - different for everyone\n",
    "* sales and marketing plan\n",
    "* differentiators\n",
    "* team\n",
    "* projections\n",
    "* timeline"
   ]
  },
  {
   "cell_type": "markdown",
   "metadata": {},
   "source": [
    "### 5 dysfunctions of a team\n",
    "* status and ego\n",
    "* low standards\n",
    "* ambiguity\n",
    "* artificial harmony\n",
    "* invulnerability"
   ]
  },
  {
   "cell_type": "code",
   "execution_count": null,
   "metadata": {
    "collapsed": true
   },
   "outputs": [],
   "source": []
  },
  {
   "cell_type": "code",
   "execution_count": null,
   "metadata": {
    "collapsed": true
   },
   "outputs": [],
   "source": []
  }
 ],
 "metadata": {
  "kernelspec": {
   "display_name": "Python 2",
   "language": "python",
   "name": "python2"
  },
  "language_info": {
   "codemirror_mode": {
    "name": "ipython",
    "version": 2
   },
   "file_extension": ".py",
   "mimetype": "text/x-python",
   "name": "python",
   "nbconvert_exporter": "python",
   "pygments_lexer": "ipython2",
   "version": "2.7.13"
  }
 },
 "nbformat": 4,
 "nbformat_minor": 2
}
