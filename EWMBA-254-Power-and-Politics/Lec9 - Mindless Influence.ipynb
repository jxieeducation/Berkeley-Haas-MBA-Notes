{
 "cells": [
  {
   "cell_type": "markdown",
   "metadata": {},
   "source": [
    "* Kidney Case\n",
    "    * try to present for a candidate and argue why they need the kidney"
   ]
  },
  {
   "cell_type": "markdown",
   "metadata": {},
   "source": [
    "* things that affect decision making\n",
    "    * motivation\n",
    "    * ability\n",
    "    * opportunity\n",
    "    * personality traits (need for recognition, impulsivity, involvement)\n",
    "    * knwoeldge, education\n",
    "    * time pressures, cognitive load, exposure"
   ]
  },
  {
   "cell_type": "markdown",
   "metadata": {},
   "source": [
    "* mindless decision making\n",
    "    * authority (e.g. quoting expert)\n",
    "    * liking \n",
    "    * scarcity (there's little time)\n",
    "    * social proof (people are sheep, meetings before meeting to decide things)\n",
    "\n",
    "    * contrast and counterfactual thinking \n",
    "    * availability and personalization effects (easier to imagine, personal)\n",
    "    * endowment - people value things that they possess, more than things that they don't\n",
    "    * status quo (people don't want change)"
   ]
  },
  {
   "cell_type": "markdown",
   "metadata": {},
   "source": []
  }
 ],
 "metadata": {
  "kernelspec": {
   "display_name": "Python 2",
   "language": "python",
   "name": "python2"
  },
  "language_info": {
   "codemirror_mode": {
    "name": "ipython",
    "version": 2
   },
   "file_extension": ".py",
   "mimetype": "text/x-python",
   "name": "python",
   "nbconvert_exporter": "python",
   "pygments_lexer": "ipython2",
   "version": "2.7.13"
  }
 },
 "nbformat": 4,
 "nbformat_minor": 2
}
