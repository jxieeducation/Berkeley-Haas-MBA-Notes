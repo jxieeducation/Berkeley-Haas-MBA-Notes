{
 "cells": [
  {
   "cell_type": "markdown",
   "metadata": {},
   "source": [
    "* solve the problem, and communicate it, make sure that VCs get it and are invested\n",
    "* waterfall vs lean\n",
    "    * waterfall - linear - idea -> product -> customer\n",
    "    * lean - get people involved, figure out if it's important"
   ]
  },
  {
   "cell_type": "markdown",
   "metadata": {},
   "source": [
    "* hypothesis driven approach\n",
    "    * learn (pivot/perservere) :build (experiments) : measure (metrics)\n",
    "    * maximize resources and info gained\n",
    "    * reduce biggest risks\n",
    "    * bootstrap\n",
    "\n",
    "* MVP - smallest set of activities needed to disprove a hypothesis"
   ]
  },
  {
   "cell_type": "markdown",
   "metadata": {},
   "source": [
    "* value proposition canvas\n",
    "    * customer\n",
    "        * wants, fears, needs\n",
    "    * product\n",
    "        * benefits, features, experience"
   ]
  },
  {
   "cell_type": "markdown",
   "metadata": {},
   "source": [
    "* hypothesis\n",
    "    * quantifiable\n",
    "    * constrained resources\n",
    "    * mvp and multiple of them\n",
    "    * focus on the problem"
   ]
  },
  {
   "cell_type": "markdown",
   "metadata": {},
   "source": [
    "* end of hypothesis driven design\n",
    "    * 3Ps\n",
    "        * perish\n",
    "        * pivot\n",
    "        * perservere"
   ]
  },
  {
   "cell_type": "markdown",
   "metadata": {},
   "source": []
  }
 ],
 "metadata": {
  "kernelspec": {
   "display_name": "Python 2",
   "language": "python",
   "name": "python2"
  },
  "language_info": {
   "codemirror_mode": {
    "name": "ipython",
    "version": 2
   },
   "file_extension": ".py",
   "mimetype": "text/x-python",
   "name": "python",
   "nbconvert_exporter": "python",
   "pygments_lexer": "ipython2",
   "version": "2.7.13"
  }
 },
 "nbformat": 4,
 "nbformat_minor": 2
}
