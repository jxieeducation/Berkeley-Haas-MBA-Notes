{
 "cells": [
  {
   "cell_type": "markdown",
   "metadata": {},
   "source": [
    "## Interesting quotes\n",
    "* \" does it make sense for your insurance company to keep you alive?\"\n",
    "* \"Chatbots will be huge in changing people's emotional state. It doesn't take much to change someone's mood\"\n",
    "    * will be especially effective at the initial phase of contact \n",
    "* what is entrepreneurial strategy?\n",
    "    1. pivot\n",
    "    2. persevere\n",
    "    3. perish\n",
    "* \"Entrepreneurship is nothing but survival\""
   ]
  },
  {
   "cell_type": "markdown",
   "metadata": {},
   "source": [
    "## Kaiser Permanente Ventures - Liz Rockett\n",
    "* **industry is set up as \"fee for service\", not \"fee for value\"**\n",
    "* key trends:\n",
    "    * rising costs and aging population\n",
    "    * consummerization - high deductible health plan\n",
    "    * consolidation of major players and movement towards \"value\" instead of \"fee for service\"\n",
    "    * challenging IT infrastructure\n",
    "* selling into health care system\n",
    "    * long sales cycle\n",
    "    * myriads of markets\n",
    "    * myriads of incentives and stakeholders\n",
    "* more and more people: **sell via employer** -> insurer -> provider"
   ]
  },
  {
   "cell_type": "markdown",
   "metadata": {},
   "source": [
    "## Ginger.io - Karan Singh - 24/7 emotional support\n",
    "* at MIT, use phone as indicator of mental health\n",
    "* currently, diagnose depression via 9 question surveys\n",
    "* why are psychitrists so expensive? mismatch between supply and demand\n",
    "* ginger.io offers a coach service\n",
    "    * self-care\n",
    "    * therapist\n",
    "    * psychiatrist\n",
    "* profit margin - 70s% annually\n",
    "* use ML and NLP to determine what lvl of care people need\n",
    "    * **becoming a provider themselves**\n",
    "* transitions: research company -> scaling -> provider"
   ]
  },
  {
   "cell_type": "markdown",
   "metadata": {},
   "source": [
    "## Alphabet Energy (heat -> electricity)\n",
    "* Eric Ries just came out w/ lean startup, became advisor\n",
    "* talked to 300 customers\n",
    "    * Auto\n",
    "    * aero / defense\n",
    "    * power\n",
    "    * manufacturer\n",
    "* so which one should you choose?\n",
    "    * look at TAM (via scenario analysis)\n",
    "    * time (how fast to get money, so defense industry is prob the fastest to get money)\n",
    "* chose to do power, specifically remote mines to prove it out\n",
    "* pivoted to auto industry, deal fell through, dying now, in perish mode"
   ]
  },
  {
   "cell_type": "markdown",
   "metadata": {},
   "source": []
  },
  {
   "cell_type": "markdown",
   "metadata": {},
   "source": []
  },
  {
   "cell_type": "markdown",
   "metadata": {},
   "source": []
  },
  {
   "cell_type": "markdown",
   "metadata": {},
   "source": []
  },
  {
   "cell_type": "markdown",
   "metadata": {},
   "source": []
  }
 ],
 "metadata": {
  "kernelspec": {
   "display_name": "Python 2",
   "language": "python",
   "name": "python2"
  },
  "language_info": {
   "codemirror_mode": {
    "name": "ipython",
    "version": 2
   },
   "file_extension": ".py",
   "mimetype": "text/x-python",
   "name": "python",
   "nbconvert_exporter": "python",
   "pygments_lexer": "ipython2",
   "version": "2.7.13"
  }
 },
 "nbformat": 4,
 "nbformat_minor": 2
}
