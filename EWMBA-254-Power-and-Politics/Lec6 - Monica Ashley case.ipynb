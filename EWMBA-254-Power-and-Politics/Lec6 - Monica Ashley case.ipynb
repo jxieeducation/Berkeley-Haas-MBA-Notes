{
 "cells": [
  {
   "cell_type": "markdown",
   "metadata": {},
   "source": [
    "* Parker doesn't support going for an outside analog-digital tech supplier, because it diminishes his power\n",
    "    * what to do?\n",
    "    * we can coopt parker\n",
    "        * retrain or replace his people\n",
    "    * leverage relationship w/ CEO\n",
    "    * need power to match Parker's power\n",
    "* Parker is needed for the company to run"
   ]
  },
  {
   "cell_type": "markdown",
   "metadata": {},
   "source": [
    "### analysis of powers\n",
    "#### legit\n",
    "* M - low, P - high\n",
    "* be seen by president\n",
    "* name drop\n",
    "* present to board\n",
    "* promotion\n",
    "* money and budget\n",
    "\n",
    "#### reward & coerce\n",
    "* M - low, P - high\n",
    "* Monica lacks resources\n",
    "* personal slander from Parker\n",
    "\n",
    "#### Info\n",
    "* M - high, P - high\n",
    "\n",
    "#### Network\n",
    "* M - high, P - high\n",
    "* sleeping w/ boss rumor from Parker - destroys Monica's network power\n",
    "\n",
    "#### Referrent\n",
    "* M - low, P - high\n",
    "* learn how to charm people\n",
    "\n",
    "#### vision / symbolic\n",
    "* M - low, P - moderate\n",
    "* paint a shiny city on a hill\n",
    "    * P - paints that M is trying to get power for herself, terrible symbolism"
   ]
  },
  {
   "cell_type": "markdown",
   "metadata": {},
   "source": [
    "* Main takeaway is that **M only has info and network power**"
   ]
  },
  {
   "cell_type": "code",
   "execution_count": null,
   "metadata": {
    "collapsed": true
   },
   "outputs": [],
   "source": []
  },
  {
   "cell_type": "markdown",
   "metadata": {},
   "source": [
    "* the best time to neutralize Parker is before he knows he's in the game\n",
    "* ask what are people's interest, and do the above analysis\n",
    "* figure out who your friends and enemies are, get rid of enemies before they know it"
   ]
  },
  {
   "cell_type": "markdown",
   "metadata": {},
   "source": []
  },
  {
   "cell_type": "markdown",
   "metadata": {},
   "source": []
  }
 ],
 "metadata": {
  "kernelspec": {
   "display_name": "Python 2",
   "language": "python",
   "name": "python2"
  },
  "language_info": {
   "codemirror_mode": {
    "name": "ipython",
    "version": 2
   },
   "file_extension": ".py",
   "mimetype": "text/x-python",
   "name": "python",
   "nbconvert_exporter": "python",
   "pygments_lexer": "ipython2",
   "version": "2.7.13"
  }
 },
 "nbformat": 4,
 "nbformat_minor": 2
}
