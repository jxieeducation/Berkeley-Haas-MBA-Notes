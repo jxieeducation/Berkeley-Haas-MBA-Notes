{
 "cells": [
  {
   "cell_type": "markdown",
   "id": "ba8455c8",
   "metadata": {},
   "source": [
    "* warmth and strength"
   ]
  },
  {
   "cell_type": "markdown",
   "id": "0854d124",
   "metadata": {},
   "source": [
    "* how to communicate power and warmth\n",
    "    * looking longer at people\n",
    "    * more gestures overall\n",
    "    * more open body posture\n",
    "    * less interpersonal distanc\n",
    "    * more speaking time\n",
    "    * laughing and making others laugh"
   ]
  },
  {
   "cell_type": "markdown",
   "id": "fb80f306",
   "metadata": {},
   "source": []
  },
  {
   "cell_type": "markdown",
   "id": "c1dcf4f3",
   "metadata": {},
   "source": []
  },
  {
   "cell_type": "markdown",
   "id": "d399e5c7",
   "metadata": {},
   "source": []
  }
 ],
 "metadata": {
  "kernelspec": {
   "display_name": "Python 3",
   "language": "python",
   "name": "python3"
  },
  "language_info": {
   "codemirror_mode": {
    "name": "ipython",
    "version": 3
   },
   "file_extension": ".py",
   "mimetype": "text/x-python",
   "name": "python",
   "nbconvert_exporter": "python",
   "pygments_lexer": "ipython3",
   "version": "3.9.4"
  }
 },
 "nbformat": 4,
 "nbformat_minor": 5
}
