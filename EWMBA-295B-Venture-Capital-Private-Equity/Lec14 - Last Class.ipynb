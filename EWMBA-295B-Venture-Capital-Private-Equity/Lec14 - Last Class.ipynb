{
 "cells": [
  {
   "cell_type": "markdown",
   "metadata": {},
   "source": [
    "## Interesting Quotes\n",
    "* \"assume the position of your boss\" - do this if you want to be promoted\n",
    "* one of the best perks of being a partner is that you can doubt everything about his views and you guys can still get chinese food in 20 mins"
   ]
  },
  {
   "cell_type": "markdown",
   "metadata": {},
   "source": [
    "## Joe Casey, January 2000"
   ]
  },
  {
   "cell_type": "markdown",
   "metadata": {},
   "source": [
    "### Joe\n",
    "* structured, networked, operator-like, fast learner, protestent, self-aware, risk taker, ambitious\n",
    "* is this a good profile for a VC?\n",
    "    * yes\n",
    "        * strategic, long term\n",
    "    * no\n",
    "        * no operator experience to build things from ground up\n",
    "\n",
    "### Venrock \n",
    "* respected, Apple, integrity, professional, old people (like Terry - \"Sean\")\n",
    "* east coast primarily, opaque in mgmt\n",
    "\n",
    "### Joe + Venrock\n",
    "* Joe's an ambitious hard worker\n",
    "* Joe comes from very big corporations, this is a totally new change\n",
    "* Joe made more structure\n",
    "* succeeding?\n",
    "    * Castle deal did well\n",
    "    * Akamai deal was a home run\n",
    "        * give up or set up?\n",
    "* what to do if your Venrock?\n",
    "    * promote? (11)\n",
    "    * not yet, but maybe? (40)\n",
    "        * why kick the can down the road? what do you want to see?\n",
    "            * create your own deal flow, bring something to the partnership\n",
    "            * get operating experience\n",
    "    * outside job? (8)\n",
    "        * didn't have experience that's different from the partnership\n",
    "* revote without the middle option\n",
    "    * promoted (28)\n",
    "    * move out (28)"
   ]
  },
  {
   "cell_type": "markdown",
   "metadata": {},
   "source": [
    "* Joe's surprises\n",
    "    * venture is all shades of grey, unlike Intel which is structured to the Tee\n",
    "\n",
    "### what joe did right\n",
    "* mentoring relationship with Hathaway (credibility)\n",
    "* down side:\n",
    "    * not getting a full credit, particularly in outside-world's eyes\n",
    "    * need to act behind the scenes\n",
    "* a critical transition step\n",
    "* making most of the opportunities he got:\n",
    "    * not seat for venrock\n",
    "\n",
    "### what joe could have done better\n",
    "* having a more realistic time frame\n",
    "* focusing earlier on generating his own deal-flow\n",
    "* looking more at areas related to his semiconductor biz\n",
    "\n",
    "### partnership\n",
    "* I-banks have compliance officers and risk assessment departmentsl Venrock has partnership bonds\n",
    "* it is harder to run red lights at big I-banks than at a partnership\n",
    "\n",
    "### Eternal questions\n",
    "* what's the best background for PE career?\n",
    "    * operating or consulting?\n",
    "* highest prob of being a VC 15 years later: go into VC immediately!"
   ]
  },
  {
   "cell_type": "markdown",
   "metadata": {},
   "source": [
    "### Sean's tips\n",
    "* be a master of your job, assume the position (do it from your perspective) from your boss"
   ]
  },
  {
   "cell_type": "markdown",
   "metadata": {},
   "source": []
  },
  {
   "cell_type": "markdown",
   "metadata": {},
   "source": []
  },
  {
   "cell_type": "markdown",
   "metadata": {},
   "source": []
  }
 ],
 "metadata": {
  "kernelspec": {
   "display_name": "Python 2",
   "language": "python",
   "name": "python2"
  },
  "language_info": {
   "codemirror_mode": {
    "name": "ipython",
    "version": 2
   },
   "file_extension": ".py",
   "mimetype": "text/x-python",
   "name": "python",
   "nbconvert_exporter": "python",
   "pygments_lexer": "ipython2",
   "version": "2.7.13"
  }
 },
 "nbformat": 4,
 "nbformat_minor": 2
}
