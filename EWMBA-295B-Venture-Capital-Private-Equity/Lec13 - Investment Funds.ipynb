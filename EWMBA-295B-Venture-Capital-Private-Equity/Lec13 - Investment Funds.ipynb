{
 "cells": [
  {
   "cell_type": "markdown",
   "metadata": {},
   "source": [
    "### Interesting quotes\n",
    "* \"A very close friend of mine was a VC. I asked him how I can get into VC as well. He said: 'Frankly, I am not enjoying being a VC that much.' He then started a company. It's called Genetech.\""
   ]
  },
  {
   "cell_type": "markdown",
   "metadata": {},
   "source": [
    "## Yale Investment Fund\n",
    "* 1985 market - stock market, record high interest rate\n",
    "    * gov no longer funds basic research, unis lost a lot of money\n",
    "    * first round of personal computer bust - 78 to 9 startups\n",
    "    * Yale endowment down to 40% compared to 10 years ago\n",
    "* David Swenson had a hedge fund background, and charged to beat the market\n",
    "* strategy:\n",
    "    - equity - because bonds don't do well vs inflation\n",
    "        * yield on future earnings\n",
    "    - diversification - didnt want to time market\n",
    "    - outside maangers - get best people\n",
    "    - less effiicnet market \n",
    "    - incentives - not paid by AUM (asset under management)\n",
    "* 3 keys to Yale VCPE \n",
    "    * external managers\n",
    "    * value added investors\n",
    "    * alignment of interests"
   ]
  },
  {
   "cell_type": "markdown",
   "metadata": {},
   "source": [
    "### VCPE Axioms\n",
    "* VC operates in an inefficient market\n",
    "* structure affects behavior\n",
    "* all decisions have contexts\n",
    "* optimal effectiveness occurs when there is an alignment of interests\n",
    "* current investment structure affects the future and vise versa\n",
    "* models are a language for communication"
   ]
  },
  {
   "cell_type": "markdown",
   "metadata": {},
   "source": [
    "## Bruce Madding - CM Capital\n",
    "* client is affluent Asian family, CM Capital works like an endowment\n",
    "* advantage:\n",
    "    * location (heart of silicon valley)\n",
    "    * people (lots of connections and experience)\n",
    "* VC environment changed - money is flooding the market \n",
    "    * a lot of money, companies stay private for longer\n",
    "    * less demand for money\n",
    "* new strategy is to participate in seed funds\n",
    "    * can provide pro-rata in later rounds (if the seed funds can't follow up, and will give pro-rata rights to CM Capital)\n",
    "* very hard to deploy a large amount of capital efficiently in VC"
   ]
  },
  {
   "cell_type": "code",
   "execution_count": null,
   "metadata": {
    "collapsed": true
   },
   "outputs": [],
   "source": []
  }
 ],
 "metadata": {
  "kernelspec": {
   "display_name": "Python 2",
   "language": "python",
   "name": "python2"
  },
  "language_info": {
   "codemirror_mode": {
    "name": "ipython",
    "version": 2
   },
   "file_extension": ".py",
   "mimetype": "text/x-python",
   "name": "python",
   "nbconvert_exporter": "python",
   "pygments_lexer": "ipython2",
   "version": "2.7.13"
  }
 },
 "nbformat": 4,
 "nbformat_minor": 2
}
