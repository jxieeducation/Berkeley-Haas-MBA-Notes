{
 "cells": [
  {
   "cell_type": "markdown",
   "metadata": {},
   "source": [
    "* inside sales give you the fastest feedback, field sales (feedback) is slow; but if the product is complex, inside sales may not work\n",
    "    * field sales is better for complex solutions\n",
    "    * if too complex, bring SE with the field sales\n",
    "* farmers -> relationships improves\n",
    "* hunters -> customers increase"
   ]
  },
  {
   "cell_type": "markdown",
   "metadata": {},
   "source": [
    "## Qualtrics: Scaling Sales Organization\n",
    "* Qualtrics is a leading high end research survey software provider\n",
    "* for the case, now wants to broaden offering to include\n",
    "    * digital marketing\n",
    "    * employee review\n",
    "    * "
   ]
  },
  {
   "cell_type": "markdown",
   "metadata": {},
   "source": []
  },
  {
   "cell_type": "markdown",
   "metadata": {},
   "source": []
  }
 ],
 "metadata": {
  "kernelspec": {
   "display_name": "Python 2",
   "language": "python",
   "name": "python2"
  },
  "language_info": {
   "codemirror_mode": {
    "name": "ipython",
    "version": 2
   },
   "file_extension": ".py",
   "mimetype": "text/x-python",
   "name": "python",
   "nbconvert_exporter": "python",
   "pygments_lexer": "ipython2",
   "version": "2.7.13"
  }
 },
 "nbformat": 4,
 "nbformat_minor": 2
}
