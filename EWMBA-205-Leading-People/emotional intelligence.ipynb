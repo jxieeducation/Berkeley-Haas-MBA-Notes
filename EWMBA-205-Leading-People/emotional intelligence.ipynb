{
 "cells": [
  {
   "cell_type": "markdown",
   "id": "7399ff42",
   "metadata": {},
   "source": [
    "### how to be liked\n",
    "* immediacy behaviors\n",
    "    * smiling\n",
    "    * leaning\n",
    "    * looking at\n",
    "* listening\n",
    "    * eye contact\n",
    "    * nod head\n",
    "    * affirmative cues \"ahhh\"\n",
    "* synchrony \n",
    "    * mirroring"
   ]
  },
  {
   "cell_type": "markdown",
   "id": "f24f2553",
   "metadata": {},
   "source": [
    "### how to elevate perceived status\n",
    "* controlled gestures"
   ]
  },
  {
   "cell_type": "markdown",
   "id": "5baaae31",
   "metadata": {},
   "source": []
  }
 ],
 "metadata": {
  "kernelspec": {
   "display_name": "Python 3",
   "language": "python",
   "name": "python3"
  },
  "language_info": {
   "codemirror_mode": {
    "name": "ipython",
    "version": 3
   },
   "file_extension": ".py",
   "mimetype": "text/x-python",
   "name": "python",
   "nbconvert_exporter": "python",
   "pygments_lexer": "ipython3",
   "version": "3.9.4"
  }
 },
 "nbformat": 4,
 "nbformat_minor": 5
}
