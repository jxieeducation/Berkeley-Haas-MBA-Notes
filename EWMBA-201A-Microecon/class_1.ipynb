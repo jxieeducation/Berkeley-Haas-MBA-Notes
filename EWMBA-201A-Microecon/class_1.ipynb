{
 "cells": [
  {
   "cell_type": "markdown",
   "id": "b00c159a",
   "metadata": {},
   "source": [
    "#### Types of choices\n",
    "* risk vs reward\n",
    "* today vs tomorrow\n",
    "* self vs otehrs"
   ]
  },
  {
   "cell_type": "markdown",
   "id": "b16cb02f",
   "metadata": {},
   "source": [
    "#### Why people make choices\n",
    "* preference\n",
    "* constraints\n",
    "* information\n",
    "* beliefs"
   ]
  },
  {
   "cell_type": "markdown",
   "id": "4b1b8c62",
   "metadata": {},
   "source": []
  },
  {
   "cell_type": "markdown",
   "id": "c8222e02",
   "metadata": {},
   "source": []
  }
 ],
 "metadata": {
  "kernelspec": {
   "display_name": "Python 3",
   "language": "python",
   "name": "python3"
  },
  "language_info": {
   "codemirror_mode": {
    "name": "ipython",
    "version": 3
   },
   "file_extension": ".py",
   "mimetype": "text/x-python",
   "name": "python",
   "nbconvert_exporter": "python",
   "pygments_lexer": "ipython3",
   "version": "3.9.4"
  }
 },
 "nbformat": 4,
 "nbformat_minor": 5
}
