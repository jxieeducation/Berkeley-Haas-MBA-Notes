{
 "cells": [
  {
   "cell_type": "markdown",
   "metadata": {},
   "source": [
    "### quotes\n",
    "* Happiness is comparing what you have to alternatives"
   ]
  },
  {
   "cell_type": "markdown",
   "metadata": {},
   "source": [
    "* attributes\n",
    "    * confidence (I can figure it if I try)\n",
    "    * ambition\n",
    "    * energy\n",
    "    * self-awareness (recognize taht we all have skewed perceptions)\n",
    "    * big picture\n",
    "    * mindset (have growth mindset)\n",
    "    * positive and negative affectivity\n",
    "        * sensitivty to positive and negative feedback\n",
    "        * e.g. sales people who love bonuses have high positive affinity\n",
    "        * generally better to have low affectivity\n",
    "    * intelligence\n",
    "    * **willingness to try**\n",
    "        * be proactive"
   ]
  },
  {
   "cell_type": "markdown",
   "metadata": {},
   "source": [
    "* power in information and decision making\n",
    "    * shaping the process of decision making is important\n",
    "        * e.g. define what's important, voting, saying what applicant looks like\n",
    "    * taking charge is important - e.g. being the person to write things on the white board\n",
    "    * heuristics and biases in decision making - important because limited brain resources, so people use heurestics\n",
    "        * framing (positive, safe - people are more sensitive to loss)\n",
    "        * sunk cost \n",
    "            * to break sunkcost, ask a 3rd party, but don't tell them about the sunk cost\n",
    "        * availability - make something more familiar for people, they are more likely to think positively of it\n",
    "        * anchoring and adjustment (people anchor decisions on something and never adjust very far)\n",
    "        * confirmation bias\n",
    "\n",
    "* **class experiment**\n",
    "    * auction off 10 dollars. First and 2nd highest bids both pay. E.g. if top bid is 8, second is 6, they both pay and top get 10 dollars\n",
    "    * Class auction went to 40 dollars"
   ]
  },
  {
   "cell_type": "markdown",
   "metadata": {},
   "source": []
  }
 ],
 "metadata": {
  "kernelspec": {
   "display_name": "Python 2",
   "language": "python",
   "name": "python2"
  },
  "language_info": {
   "codemirror_mode": {
    "name": "ipython",
    "version": 2
   },
   "file_extension": ".py",
   "mimetype": "text/x-python",
   "name": "python",
   "nbconvert_exporter": "python",
   "pygments_lexer": "ipython2",
   "version": "2.7.13"
  }
 },
 "nbformat": 4,
 "nbformat_minor": 2
}
