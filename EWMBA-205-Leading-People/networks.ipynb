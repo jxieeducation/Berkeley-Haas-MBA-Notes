{
 "cells": [
  {
   "cell_type": "markdown",
   "id": "105d32d7",
   "metadata": {},
   "source": [
    "* types of capital\n",
    "    * financial capital\n",
    "    * human capital - skills\n",
    "    * social capital - network contacts and reputation\n",
    "* social capital\n",
    "    * access to others' financial and human capital\n",
    "    * access to private info\n",
    "    * ability to mobilize without formal authority\n",
    "    * informal power\n",
    "    * ability to broker exchanges\n",
    "    * social and emotional support"
   ]
  },
  {
   "cell_type": "markdown",
   "id": "e34d45cb",
   "metadata": {},
   "source": [
    "* 3 characteristics of effective networks\n",
    "    * types of contacts: diversity / breadth\n",
    "    * types of relationships: closeness / depth\n",
    "    * types of networks: dense / leverage\n",
    "* diversity\n",
    "    * what groups are missing? over or under represented?\n",
    "* closeness\n",
    "    * close ties: circle of trust\n",
    "    * weak ties: new / unanticipated opportunities\n",
    "* density / leverage\n",
    "    * what pct are connected?\n",
    "    * value-add opportunities"
   ]
  },
  {
   "cell_type": "markdown",
   "id": "b653c3e8",
   "metadata": {},
   "source": [
    "* network types\n",
    "    * entrepreneurial networks\n",
    "        * weak ties\n",
    "        * non redundant\n",
    "        * ties to other networks\n",
    "    * clique networks\n",
    "        * strong ties\n",
    "        * mutual / redundant\n",
    "* **BE A BROKER**\n",
    "* primordial ties (established before need) > instrumental ties (estbalished after you need them)\n",
    "* be pragmatic - analyze contact's interests, know currencies they value\n",
    "* relationships with people who are dissimilar are most difficult to cultivate - takes most energy"
   ]
  },
  {
   "cell_type": "markdown",
   "id": "80688be2",
   "metadata": {},
   "source": []
  }
 ],
 "metadata": {
  "kernelspec": {
   "display_name": "Python 3",
   "language": "python",
   "name": "python3"
  },
  "language_info": {
   "codemirror_mode": {
    "name": "ipython",
    "version": 3
   },
   "file_extension": ".py",
   "mimetype": "text/x-python",
   "name": "python",
   "nbconvert_exporter": "python",
   "pygments_lexer": "ipython3",
   "version": "3.9.4"
  }
 },
 "nbformat": 4,
 "nbformat_minor": 5
}
