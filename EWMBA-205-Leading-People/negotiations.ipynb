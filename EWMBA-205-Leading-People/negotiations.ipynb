{
 "cells": [
  {
   "cell_type": "markdown",
   "id": "d4058ab7",
   "metadata": {},
   "source": [
    "* what are we negotiating\n",
    "    * relationship \n",
    "    * deal\n",
    "    * interaction\n",
    "* Best Alternative to Negotiated Agreement\n",
    "* how hard do you push?\n",
    "    * deal vs relationship"
   ]
  },
  {
   "cell_type": "markdown",
   "id": "99de7bb9",
   "metadata": {},
   "source": [
    "### best practices\n",
    "* strong opening offers\n",
    "    * anchoraing\n",
    "    * bargaining zone\n",
    "    * re-anchor if needed\n",
    "* prepare for scenarios\n",
    "* avoid basic ranges\n",
    "* be comfortable with silence\n",
    "* non-round numbers"
   ]
  },
  {
   "cell_type": "markdown",
   "id": "fd6b1301",
   "metadata": {},
   "source": []
  },
  {
   "cell_type": "markdown",
   "id": "75b51172",
   "metadata": {},
   "source": []
  },
  {
   "cell_type": "markdown",
   "id": "94b441ba",
   "metadata": {},
   "source": []
  }
 ],
 "metadata": {
  "kernelspec": {
   "display_name": "Python 3",
   "language": "python",
   "name": "python3"
  },
  "language_info": {
   "codemirror_mode": {
    "name": "ipython",
    "version": 3
   },
   "file_extension": ".py",
   "mimetype": "text/x-python",
   "name": "python",
   "nbconvert_exporter": "python",
   "pygments_lexer": "ipython3",
   "version": "3.9.4"
  }
 },
 "nbformat": 4,
 "nbformat_minor": 5
}
