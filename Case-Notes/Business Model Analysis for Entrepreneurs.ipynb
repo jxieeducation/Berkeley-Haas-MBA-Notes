{
 "cells": [
  {
   "cell_type": "markdown",
   "metadata": {},
   "source": [
    "HBR"
   ]
  },
  {
   "cell_type": "markdown",
   "metadata": {},
   "source": [
    "### Intro\n",
    "* Business models addresses defining conditions of entrepreneurship\n",
    "    * uncertainty and resource constraints\n",
    "    * illuminates a venture's path to economic self-efficiency\n",
    "* forces a realistic appraisal of gap between available and required resources\n",
    "* stimulates creative thinking about ways to reduce resource requirements\n",
    "* makes explicit key assumptions in new venture's profit-making logic, exposing uncertainty"
   ]
  },
  {
   "cell_type": "markdown",
   "metadata": {},
   "source": [
    "## What is a business model?\n",
    "#### Customer Value Proposition\n",
    "* what unmet need does the business address?\n",
    "* how is value captured?\n",
    "    * differentiation\n",
    "    * pricing\n",
    "* what are the key features?\n",
    "* how will it be priced?\n",
    "* switching costs?\n",
    "\n",
    "#### Technology and Operations Management\n",
    "* what activities are required for the core offering\n",
    "* who will performed outsourced activities?\n",
    "\n",
    "#### Go to market\n",
    "* through what mix of direct channels (e.g. in house sales, website) and indirect channels (wholesaler, franchisees)\n",
    "* what's the Life Time Value (LTV) of a customer?\n",
    "* what's the Customer Acquisiiton Cost (CAC)?\n",
    "* what mix of free and paid demand generation methods?\n",
    "\n",
    "#### Profit Formula\n",
    "* what share of TAM does it need to break even?\n",
    "* fixed / variable costs?"
   ]
  },
  {
   "cell_type": "markdown",
   "metadata": {},
   "source": [
    "### Business model and strategy\n",
    "* the model explains the strategy\n",
    "* a well crafted strategies explain more about contingencies\n",
    "\n",
    "### Recruiting a team and investor\n",
    "* the business model dictates what kind of team / experience is needed"
   ]
  },
  {
   "cell_type": "markdown",
   "metadata": {},
   "source": [
    "## Customer Value Proposition\n",
    "* following questions\n",
    "    * what unmet needs?\n",
    "    * differentiation or low cost?\n",
    "        * differentiation - increasing customers' willingness to pay\n",
    "        * low cost - reducing expense\n",
    "    * which customer segment will venture serve?\n",
    "    * what's the market?\n",
    "        * existing\n",
    "        * new \n",
    "        * re-segmented (superior performance on familiar attributes strongly valued by a subset of the existing market’s customers)\n",
    "    * what's the MVP? (smallest set of features to valid biz model assumptions)\n",
    "    * does it have ties to 3rd parties?\n",
    "    * how is it priced?\n",
    "        * fixed per transaction\n",
    "        * variable \n",
    "        * tiered \n",
    "        * linked to outcome (e.g. pay-per-click)\n",
    "    * will it use a skimming strategy? (pricing high to capture value from early adopters)\n",
    "    * can it do price discrimination?\n",
    "    * can it leverage strong proprietary network effects?\n",
    "    * what's the switching cost? \n",
    "* 3 unique value prop analysis to new business:\n",
    "    * reliance on powerful partners (Cant offer everything in the beginning)\n",
    "    * customer skepticism\n",
    "    * limited market research \n",
    "* customer switching costs (for existing and resegmented market)\n",
    "    * redundant relationship-specific investments (hassle to use new thing)\n",
    "    * disruption risk (if you dropped the ball on mission critical components)\n",
    "    * contractual penalties (e.g. T-mobile)\n",
    "* network effects\n",
    "    * build on new platforms (e.g. FB) or existing (zynga)\n",
    "    * evident when a member's willingness to pay depends on the number of people"
   ]
  },
  {
   "cell_type": "markdown",
   "metadata": {},
   "source": [
    "## Technology and Operations Management\n",
    "* what activities are required to develop and produce venture's core offerings?\n",
    "* which activities should be inhouse? to what extent should a business be vertically integrated?\n",
    "* what are the cost drivers for these core activities? (e.g. volume, capacity utilization)\n",
    "* create IP? how will it be proprietary?\n",
    "* how strong is the first mover adv?\n",
    "* will it be able to scale?\n",
    "* vertical integration\n",
    "    * vertical integration makes things run smoother\n",
    "    * but can be costly (e.g. extracting trading data from an existing platform - do you liscence another firm? or build inhouse)\n",
    "* first / late mover adv\n",
    "    * first mover adv:\n",
    "        * preemption of customer relationships (if fixed cost is high, more custoemrs are great)\n",
    "        * preemption of scarce assets (e.g. AI researchers)\n",
    "        * preemption of key patents \n",
    "    * late mover adv:\n",
    "        * reduction of R&D\n",
    "        * utilize new tech that comes up"
   ]
  },
  {
   "cell_type": "markdown",
   "metadata": {},
   "source": [
    "## Go-To-Market\n",
    "* mix of direct and indirect channnels\n",
    "* given the LTV of a customer, what CAC should a business target?\n",
    "* how do you generate demand?\n",
    "    * advertising?\n",
    "    * product sampling\n",
    "    * trade promotions\n",
    "    * freemium pricing\n",
    "    * public relations\n",
    "    * word of mouth\n",
    "* if venture relies on free customer acq, how will the product encourage virality?\n",
    "* if the product is totally new, how are you going to cross the chasm?\n",
    "* virality\n",
    "    * direct network effects (both parties need to have it)\n",
    "    * word of mouth\n",
    "    * causal contact (hotmail with the footer, for free marketing)\n",
    "    * incentives (referral codes - e.g. chase)"
   ]
  },
  {
   "cell_type": "markdown",
   "metadata": {},
   "source": [
    "## Profit Formula\n",
    "* evaluates economic viability \n",
    "* what contributing margin will the venture earn?\n",
    "* what's the fixed cost? and breakeven pt\n",
    "* how large is the TAM\n",
    "* "
   ]
  },
  {
   "cell_type": "code",
   "execution_count": null,
   "metadata": {
    "collapsed": true
   },
   "outputs": [],
   "source": []
  }
 ],
 "metadata": {
  "kernelspec": {
   "display_name": "Python 2",
   "language": "python",
   "name": "python2"
  },
  "language_info": {
   "codemirror_mode": {
    "name": "ipython",
    "version": 2
   },
   "file_extension": ".py",
   "mimetype": "text/x-python",
   "name": "python",
   "nbconvert_exporter": "python",
   "pygments_lexer": "ipython2",
   "version": "2.7.13"
  }
 },
 "nbformat": 4,
 "nbformat_minor": 2
}
