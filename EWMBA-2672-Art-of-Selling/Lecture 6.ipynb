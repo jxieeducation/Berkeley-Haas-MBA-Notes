{
 "cells": [
  {
   "cell_type": "markdown",
   "id": "b83c5cbe",
   "metadata": {},
   "source": [
    "### Lec 6 - Progressing the Deal\n",
    "\n",
    "* planning -> opening -> discovery -> presenting / selling -> closing -> debrief\n",
    "* precall checklist\n",
    "    * Customer DISC profile (Dominance / Influence / steadiness / Conscientiousness)\n",
    "    * sales stage: prospecting / qualifcation / needs analysis / EB meeting / Proposal\n",
    "    * sales objetive: what do you want the customer commitment to?\n",
    "    * how will you open the call?\n",
    "    * how will you build rapport with the customer?\n",
    "    * what key things do you know about the customer? \n",
    "    * what key information do you need to share with the customer?\n",
    "    * what resistance might you face / how might you overcome it?\n",
    "    * what resources will you need for the call?\n",
    "    * what are the anticipated next steps? "
   ]
  },
  {
   "cell_type": "markdown",
   "id": "b035cc05",
   "metadata": {},
   "source": [
    "* Opening: legitimate purpose statement\n",
    "    * LPS sets expectations for the call\n",
    "        * legitimate: clear benefits to the customer\n",
    "        * purpose: what will be accomplished during the call\n",
    "    * best LPS is delivered in a straightforward and concise manner\n",
    "    * LPS acts as a bridge from opening to questioning\n",
    "\n",
    "* confirming expectations\n",
    "    * \"does that cover everythng that you'd like to discuss?\n",
    "    * \"We were planning 30-minutes for this meeting. I'd like to confirm that we have this time today?\""
   ]
  },
  {
   "cell_type": "markdown",
   "id": "7155d770",
   "metadata": {},
   "source": [
    "* technique: question funnel\n",
    "    * broad needs: \n",
    "        e.g. what's the biggest challenge you face?\n",
    "    * specific needs:\n",
    "        e.g. what's causing the problem?\n",
    "    * levrage question:\n",
    "        e.g. what are the consequences if the problem isn't sollved and the situation drags on?\n",
    "\n",
    "* technique: back-tracking benefits\n",
    "    * your best feature\n",
    "    * benefit to customer\n",
    "    * need solved by feature & benefit\n",
    "    * question to draw out need\n",
    "    * question to leverage the need"
   ]
  },
  {
   "cell_type": "markdown",
   "id": "b0e43f38",
   "metadata": {},
   "source": [
    "* closing: ask for a commitment\n",
    "* stalls and objections\n",
    "    * stall - customer isnt sold yet\n",
    "    * objection - specific reason why prospect isn't ready"
   ]
  },
  {
   "cell_type": "markdown",
   "id": "b07470fe",
   "metadata": {},
   "source": [
    "* champion\n",
    "    * your internal sales rep with the customer\n",
    "    * able to communicate the value of your solution\n",
    "    * can influence the decision criteria and make sure that they are favorable to you\n",
    "    * connected to solve the big business for the company\n",
    "    * it takes time to identify, build and nurture a champion\n",
    "\n",
    "* coach\n",
    "    * guide in the customer org\n",
    "    * may not have decision power and may not need for your solution\n",
    "    * most likely doesn't have anything to gain from supporting you\n",
    "    * coaches are often mistaken for champions because they are friendly\n",
    "    * but their psoition is not strong enough to be a champion\n",
    " \n",
    "* economic buyer\n",
    "    * has discretionary use of funds and can create / change priority of budgets\n",
    "    * has veto power for the final decision"
   ]
  },
  {
   "cell_type": "code",
   "execution_count": null,
   "id": "fa25a8e5",
   "metadata": {},
   "outputs": [],
   "source": []
  }
 ],
 "metadata": {
  "kernelspec": {
   "display_name": "Python 3",
   "language": "python",
   "name": "python3"
  },
  "language_info": {
   "codemirror_mode": {
    "name": "ipython",
    "version": 3
   },
   "file_extension": ".py",
   "mimetype": "text/x-python",
   "name": "python",
   "nbconvert_exporter": "python",
   "pygments_lexer": "ipython3",
   "version": "3.9.7"
  }
 },
 "nbformat": 4,
 "nbformat_minor": 5
}
