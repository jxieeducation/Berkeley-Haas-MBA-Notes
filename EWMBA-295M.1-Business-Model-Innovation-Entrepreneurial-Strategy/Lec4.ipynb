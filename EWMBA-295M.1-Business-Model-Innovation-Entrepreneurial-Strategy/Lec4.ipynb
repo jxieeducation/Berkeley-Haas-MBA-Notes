{
 "cells": [
  {
   "cell_type": "markdown",
   "metadata": {},
   "source": [
    "## Cirque Du Soleil \n",
    "* scaling an entertainment business\n",
    "* street performer -> people put money into the can\n",
    "* not scalable (scalable means revenue grows faster than cost)\n",
    "    * easy for software, hard for shows\n",
    "* bizmodel #1 Troupe - donations - government support (84-87)\n",
    "* bizmodel #2 Brand increased - tour - revenue (make no money, to increase brand)\n",
    "* bizmodel #3 Venue - rev share (e.g. 60/40) - chose not do a movie; to keep creative control\n",
    "\n",
    "### what to do next?\n",
    "#1 another show\n",
    "    * cons:\n",
    "        * higher cost\n",
    "        * cannabilization\n",
    "    * pros:\n",
    "        * brand increases\n",
    "        * recycle audience\n",
    "#2 another city\n",
    "    * pros: \n",
    "        * experiment\n",
    "#3 bigger performance\n",
    "    * cons:\n",
    "        * failure and loss (from venue / rev share mdoel)\n",
    "    * pros:\n",
    "        * revenue increase\n",
    "#4 product extension (e.g. restaurant, musical)\n",
    "    * cons:\n",
    "        * losing focus\n",
    "    * pros: \n",
    "        * product to concept\n",
    "#5 more troupes (**like Hamilton! broadway shows in different cities**)\n",
    "    * cons:\n",
    "        * losing exclusivity"
   ]
  },
  {
   "cell_type": "markdown",
   "metadata": {},
   "source": [
    "* bizmodel #4 resident show (vegas) - MGM (build venue for 130M, boosts casino biz) - base cost - rev share (50/50) (1995)\n",
    "    * now: 3 tour, 1 resident\n",
    "\n",
    "### how to extend this business model?\n",
    "* core of biz model: create a popular intellectual product that's replaceable (e.g. no stars), then replicate\n",
    "* examples\n",
    "    * food truck\n",
    "    * english camp (e.g. 新东方）\n",
    "    * special university where every semester but first and last semester are spent traveling the world"
   ]
  },
  {
   "cell_type": "markdown",
   "metadata": {},
   "source": [
    "## WEWORK\n",
    "* long term leases (20 years) **TO** short term leases (1-person, corporation)\n",
    "* high risk, **cyclical demand**\n",
    "* you (as a customer/ company) can scale in wework, as your  # of people change\n",
    "* metrics\n",
    "    * utilization (used / total)\n",
    "    * stability metric (# enterprise / total) (we the base cost to break even with the enterprise rev)\n",
    "* community (startups, events) <-- big value proposition\n",
    "* proprietary / USP:\n",
    "    1. network effect\n",
    "    2. scale!\n",
    "    3. software\n",
    "* people don't compete with WEWORK, even though it's probably easy\n",
    "    * once a startup takes off, it sucks the air out of the room!"
   ]
  },
  {
   "cell_type": "markdown",
   "metadata": {},
   "source": []
  }
 ],
 "metadata": {
  "kernelspec": {
   "display_name": "Python 2",
   "language": "python",
   "name": "python2"
  },
  "language_info": {
   "codemirror_mode": {
    "name": "ipython",
    "version": 2
   },
   "file_extension": ".py",
   "mimetype": "text/x-python",
   "name": "python",
   "nbconvert_exporter": "python",
   "pygments_lexer": "ipython2",
   "version": "2.7.13"
  }
 },
 "nbformat": 4,
 "nbformat_minor": 2
}
