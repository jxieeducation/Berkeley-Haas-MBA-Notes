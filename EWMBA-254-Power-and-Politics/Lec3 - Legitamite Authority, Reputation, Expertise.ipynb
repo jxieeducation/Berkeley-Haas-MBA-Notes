{
 "cells": [
  {
   "cell_type": "markdown",
   "metadata": {},
   "source": [
    "* legit power -people are more likely to do something if they think the leader is the leader (position vs personal power)\n",
    "* power resides where people believe power resides\n",
    "* Matthew's effect - belief that you have power leads to more pwoer\n",
    "* dress conveys power\n",
    "* going all the way to the other direction can also convey power\n",
    "    * e.g. slippers to VC meetings\n",
    "    * Elon Musk - Flamethrowers\n",
    "* the Dog Whisperer\n",
    "    * book about how to interact with dogs\n",
    "    * need to demonstrate power to be treated with power\n",
    "* people who talk the most tends to be perceived as a leader\n",
    "* competence and warmth\n",
    "    * competence = power\n",
    "    * warmth = friend or foe\n",
    "* man - focused on power, woman - empathy and equality\n",
    "    * men tends to deny problem and bring peers up\n",
    "    * women tends to lower themselves to be on the same level as peer\n",
    "* if you look legit, then you have power\n",
    "    * if you project high power, people will believe you have high power"
   ]
  },
  {
   "cell_type": "markdown",
   "metadata": {},
   "source": [
    "## high power vs low power\n",
    "### body\n",
    "* stand tall, expand chest, arms and hands, stable\n",
    "* take up more space\n",
    "\n",
    "### head\n",
    "* head level or directed slightly upwards\n",
    "\n",
    "### eyes\n",
    "* make eye contact\n",
    "\n",
    "### focus\n",
    "* directly focus towards listener: nose, hips, feet pointed towards listener\n",
    "\n",
    "### hands\n",
    "* talk with your hands\n",
    "    * emblems - equivalents for words or phrases\n",
    "    * illustrators\n",
    "* also helps expand body, making your space larger\n",
    "\n",
    "### words\n",
    "* short clear sentences\n",
    "* high volume\n",
    "* relaxed pace\n",
    "* adjust vocal quality\n",
    "* downward inflection\n",
    "\n",
    "### clothing\n",
    "* dress like an extreme prototype of the group e.g. Don Draper"
   ]
  },
  {
   "cell_type": "markdown",
   "metadata": {},
   "source": []
  },
  {
   "cell_type": "markdown",
   "metadata": {},
   "source": []
  },
  {
   "cell_type": "markdown",
   "metadata": {},
   "source": []
  }
 ],
 "metadata": {
  "kernelspec": {
   "display_name": "Python 2",
   "language": "python",
   "name": "python2"
  },
  "language_info": {
   "codemirror_mode": {
    "name": "ipython",
    "version": 2
   },
   "file_extension": ".py",
   "mimetype": "text/x-python",
   "name": "python",
   "nbconvert_exporter": "python",
   "pygments_lexer": "ipython2",
   "version": "2.7.13"
  }
 },
 "nbformat": 4,
 "nbformat_minor": 2
}
