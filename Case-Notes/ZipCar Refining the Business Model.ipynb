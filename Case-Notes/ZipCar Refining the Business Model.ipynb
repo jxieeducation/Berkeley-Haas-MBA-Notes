{
 "cells": [
  {
   "cell_type": "markdown",
   "metadata": {},
   "source": [
    "[HBR](http://teaching.up.edu/bus580/bps/case,%20zipcar.pdf)"
   ]
  },
  {
   "cell_type": "markdown",
   "metadata": {},
   "source": [
    "* starte in mid to late 2000, raised money for around 20 cars in Boston\n",
    "* refining business model before a VC forum for fundraising"
   ]
  },
  {
   "cell_type": "markdown",
   "metadata": {},
   "source": [
    "### Pursuing the idea\n",
    "* idea originated in Europe\n",
    "* organized car sharing - coordinated use of vehicles by various subscribers in succession and independently of each other\n",
    "    * like real estate but \"real estate\" had wheels, prescribed usage time is not fixed\n",
    "    * any member can reserve any vehicle in the network\n",
    "* usually members paid a large upfront deposit, annual fee and a per use fee (fn of time and mileage)\n",
    "* hole in the market - short term, on demand private car access\n",
    "\n",
    "#### Sizing the market\n",
    "* penetration in Western Europe was small but growing rapidly\n",
    "* with little marketing, the market was growing at 30% annually\n",
    "* 1999, 130k members, 200MM market \n",
    "* US market is untouched, 66MM Americans lived in metropolitan areas, 20MM used public transportation\n",
    "\n",
    "#### Competition\n",
    "* 2 in Europe - 1400 + 300 cars\n",
    "* 3 in NA - 2 focused more on environmental impact instead of cost savings and convenience\n",
    "* potential for car dealerships to join the market"
   ]
  },
  {
   "cell_type": "markdown",
   "metadata": {},
   "source": [
    "## Developing the Business Plan\n",
    "* value proposition:\n",
    "    * convenience\n",
    "    * ease of use\n",
    "    * freedom to travel\n",
    "    * hassle-free ownership\n",
    "* can also be marketed for environmental propositions\n",
    "* product plan:\n",
    "    * website to reserve cars in specific locations\n",
    "    * reservations can be made in advance, or immediately based on availability \n",
    "* price structure:\n",
    "    * security deposit\n",
    "    * initiation fee\n",
    "    * annual fee\n",
    "    * monthly fee\n",
    "    * hourly or daily rates\n",
    "* existing pricing\n",
    "    * significant initiation fee (orgs need money to buy cars - most orgs are cooperatives)\n",
    "    * target users compare the fee to renting a car for a day - 45/day\n",
    "* first business plan\n",
    "    * assumptions\n",
    "        * potential users needed to be members\n",
    "        * 25d application fee\n",
    "        * 300 fully refundable security deposit\n",
    "        * 300 annual sub fee\n",
    "        * charged 1.5/hr and 40c per mile\n",
    "    * users are expected to do basic maintenance like gas filling \n",
    "    * 20d for late return fee\n",
    "    * assumed annual renewal rate of 95%, 5% attrition\n",
    "* research found that most cars had 50% utilization rate"
   ]
  },
  {
   "cell_type": "markdown",
   "metadata": {},
   "source": [
    "## Financing\n",
    "* took a 50k convertible loan from classmate, 1% interest per month, maturing at Series A valuation to equity\n",
    "\n",
    "### tech platform\n",
    "* wireless transmission of data to capture mileage\n",
    "* members made reservations online\n",
    "* server wirelessly sends reservation to car (when and whom)\n",
    "* when user comes, starts billing\n",
    "* member always uses this car to unlock the door, billed in real time"
   ]
  },
  {
   "cell_type": "markdown",
   "metadata": {},
   "source": [
    "## Starting ZipCar\n",
    "* dropped annual fee to 75, raised hourly fee to 4-7\n",
    "* costs\n",
    "    * 600 for parking per car per year\n",
    "    * attrition - 15%\n",
    "    * lease costs - 4.4k per car per year\n",
    "    * access equipment - 500 per car per year\n",
    "\n",
    "### Marketing\n",
    "* low budget marketing\n",
    "* focused on car design to have the distinct clean green look\n",
    "* made post cards for 7c each, directing people to website\n",
    "    * avoid brochure - if they can't handle the web, they are not our customers\n",
    "* got major coverage a few months in"
   ]
  },
  {
   "cell_type": "markdown",
   "metadata": {},
   "source": [
    "### Growth prospects and continued search for funding\n",
    "* Boston is ideal to prove business model and grow\n",
    "* 15000 ppl who fit the bill\n",
    "* aware of network effects within a city, but also wanted to get into East and West coast\n",
    "* found that actual costs are a bit higher\n",
    "* continued to keep marketing down, get more free credible publicity"
   ]
  }
 ],
 "metadata": {
  "kernelspec": {
   "display_name": "Python 2",
   "language": "python",
   "name": "python2"
  },
  "language_info": {
   "codemirror_mode": {
    "name": "ipython",
    "version": 2
   },
   "file_extension": ".py",
   "mimetype": "text/x-python",
   "name": "python",
   "nbconvert_exporter": "python",
   "pygments_lexer": "ipython2",
   "version": "2.7.13"
  }
 },
 "nbformat": 4,
 "nbformat_minor": 2
}
