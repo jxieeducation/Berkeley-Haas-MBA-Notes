{
 "cells": [
  {
   "cell_type": "markdown",
   "metadata": {},
   "source": [
    "### quotes:\n",
    "\n",
    "- In 2001, as the head of the Cal entrepreneurship society and the creator of the Launch startup case competition, I did the obvious thing after graduation, join McKinsey.\n",
    "- We, folks, are in Florence during the Renaissance.\n",
    "- My mother, who happens to be 83 years old, still asks me, \"Why did you leave Google?\" The question is very much like \"Why did you leave home?\" There's never a good reason to leave home. But we leave home anyways because if we don't leave, we will never learn.\n",
    "- [Classmate] \"Back in the DOT COM bubble, why did you guys invest in companies that had no revenue, no business model?\" [Prof] \"Why don't you go ask someone who still makes the exact same decisions today? Basically anyone who invested in Twitter.\"\n",
    "- In January 2000, everyone said that the market is going to go boom. But the valuations of companies went up by 20% in the first quarter, and 30% in the next. So we, like everyone, invested some more.\n",
    "- In the first assignment, you will talk with a VC about why they made certain decisions. No, you may not pitch your startup idea to them. You will tell them \"No, I will not bypass the regular process of going through the associates, and I will only ask you questions for the benefit of my class and my classmates.\""
   ]
  },
  {
   "cell_type": "markdown",
   "metadata": {},
   "source": [
    "### efficient vs inefficient market\n",
    "* in an efficient market, the returns are 8% +- 1%\n",
    "* in an inefficient market, the returns are 8 +- 2% (large right skew)\n",
    "\n",
    "### Martin Smith case\n",
    "* 2000 dot com bubble - no profit, no revenue\n",
    "* everyone says it's all going to go, but the valuations kept going up\n",
    "* you don't know where the edge is\n",
    "* Martin Smith - engineering background, trying to measure risk\n",
    "\n",
    "[what's a Limited Partner](https://www.thebusinessofvc.com/blog/limited-partners-101)"
   ]
  },
  {
   "cell_type": "markdown",
   "metadata": {},
   "source": [
    "### ACE framework\n",
    "* aspiration to contribution to experience to aspiration loop\n",
    "* a career is a portfolio of experiences (between operator and )"
   ]
  },
  {
   "cell_type": "code",
   "execution_count": null,
   "metadata": {
    "collapsed": true
   },
   "outputs": [],
   "source": []
  }
 ],
 "metadata": {
  "kernelspec": {
   "display_name": "Python 2",
   "language": "python",
   "name": "python2"
  },
  "language_info": {
   "codemirror_mode": {
    "name": "ipython",
    "version": 2
   },
   "file_extension": ".py",
   "mimetype": "text/x-python",
   "name": "python",
   "nbconvert_exporter": "python",
   "pygments_lexer": "ipython2",
   "version": "2.7.5"
  }
 },
 "nbformat": 4,
 "nbformat_minor": 0
}
