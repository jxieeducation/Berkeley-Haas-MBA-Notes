{
 "cells": [
  {
   "cell_type": "markdown",
   "metadata": {},
   "source": [
    "### Term sheet\n",
    "* not legally binding\n",
    "* 4 components:\n",
    "    * stock purchase agreement\n",
    "    * investor rights\n",
    "    * certification of incoporation\n",
    "    * bylaws\n",
    "* case:\n",
    "    * series A - 50/50 - founders / investor split\n",
    "    * small pool allocated\n",
    "* redemption:\n",
    "    * a \"put\" right, lets investors require the company to buy back their stock after a period of time\n",
    "    * late stage deals when some companies don't want to exit\n",
    "* anti-dilution:\n",
    "    * protects new stocks from being released in the future at a lower price than what the investor paid\n",
    "* protective provisions:\n",
    "    * right to block certain corporate actions\n",
    "* right of first offer\n",
    "    * a contractual obligation by the owner of an asset to a rights holder to negotiate the sale of an asset with the rights holder before offering the asset for sale to third parties\n",
    "    * if the investor doesn't want to buy it, can sell to third party\n",
    "* right of first refusal\n",
    "    * If the founders ever want to sell any of their shares to a third-party, the right of first refusal requires them to give the company the first opportunity to purchase the shares on the terms offered by the third-party\n",
    "* voting rights:\n",
    "    * how is the board made up?\n",
    "    * board != investor\n",
    "        * a VC can vote YES on the board and NO on the investor\n",
    "        * board is for the company\n",
    "        * investor is for themselves"
   ]
  },
  {
   "cell_type": "markdown",
   "metadata": {},
   "source": []
  },
  {
   "cell_type": "markdown",
   "metadata": {},
   "source": []
  },
  {
   "cell_type": "markdown",
   "metadata": {},
   "source": []
  },
  {
   "cell_type": "markdown",
   "metadata": {},
   "source": []
  },
  {
   "cell_type": "markdown",
   "metadata": {},
   "source": []
  }
 ],
 "metadata": {
  "kernelspec": {
   "display_name": "Python 2",
   "language": "python",
   "name": "python2"
  },
  "language_info": {
   "codemirror_mode": {
    "name": "ipython",
    "version": 2
   },
   "file_extension": ".py",
   "mimetype": "text/x-python",
   "name": "python",
   "nbconvert_exporter": "python",
   "pygments_lexer": "ipython2",
   "version": "2.7.13"
  }
 },
 "nbformat": 4,
 "nbformat_minor": 2
}
