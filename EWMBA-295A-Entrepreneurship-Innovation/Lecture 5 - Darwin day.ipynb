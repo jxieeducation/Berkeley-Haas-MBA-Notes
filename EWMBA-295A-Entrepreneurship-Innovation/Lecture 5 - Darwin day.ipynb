{
 "cells": [
  {
   "cell_type": "markdown",
   "metadata": {},
   "source": [
    "### Traveling Spoon\n",
    "* when you want someone as an advisor, don't ask them. Just ask them for advice, and keep doing it - eventually they will be your advisor\n",
    "* ask for what you want - money, advice, connection\n",
    "* partnerships take time, money and heart"
   ]
  },
  {
   "cell_type": "markdown",
   "metadata": {},
   "source": [
    "### ideas\n",
    "* moving homes - Kasita\n",
    "* openhouse - convert home into small office spaces\n",
    "* fairness in ML (for regulated industries)\n",
    "* CRISPR gene editing for healthy chicken\n",
    "* api for crypto / stripe (BitButter)\n",
    "* hand sanitizer for C.Diff (bacteria)"
   ]
  }
 ],
 "metadata": {
  "kernelspec": {
   "display_name": "Python 2",
   "language": "python",
   "name": "python2"
  },
  "language_info": {
   "codemirror_mode": {
    "name": "ipython",
    "version": 2
   },
   "file_extension": ".py",
   "mimetype": "text/x-python",
   "name": "python",
   "nbconvert_exporter": "python",
   "pygments_lexer": "ipython2",
   "version": "2.7.13"
  }
 },
 "nbformat": 4,
 "nbformat_minor": 2
}
