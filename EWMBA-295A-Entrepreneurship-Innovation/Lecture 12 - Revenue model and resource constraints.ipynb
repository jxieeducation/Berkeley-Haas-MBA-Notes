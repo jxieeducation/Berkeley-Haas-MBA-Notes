{
 "cells": [
  {
   "cell_type": "markdown",
   "metadata": {},
   "source": [
    "### netflix case\n",
    "* incumbant - blockbuster\n",
    "    * biz model - per rental + late fees\n",
    "        * brick and motor stores\n",
    "* netflix - queue + subscription\n",
    "    * no late fees\n",
    "* cost structure - queue - lean cost structure\n",
    "    * distribution - envolopes\n",
    "    * market place - long tail - blue ocean!!\n",
    "    * recommendations - create demand for movies!!!!!\n",
    "* creating content via DS \n",
    "    * created netflix originals - Frank the fixer"
   ]
  },
  {
   "cell_type": "markdown",
   "metadata": {},
   "source": [
    "### Revenue models - has to complement the product\n",
    "* Free with ads (pandora) - eyeballs\n",
    "* Free with service (verizon, e.g. phone plan and phones)\n",
    "* freemium (linkedin)\n",
    "* Subscription (netflix)\n",
    "* affiliate (Amazon)\n",
    "* market maker (stubhub)\n",
    "* price per (angry birds)\n",
    "* loss leader (HP printers, make money on catridge instead)\n",
    "* complements (gilette, razor and blade)\n",
    "* tiered / volime pricing (mailchimp)\n",
    "* feature pricing (adobe)\n",
    "* virtual goods (Zynga)\n",
    "* Franchise (McDonalds)\n",
    "* Royalty (ARMH)"
   ]
  },
  {
   "cell_type": "markdown",
   "metadata": {},
   "source": [
    "### cost structure\n",
    "* variable, fixed, free \n",
    "* try to turn fixed into varaible, and variable into free"
   ]
  },
  {
   "cell_type": "markdown",
   "metadata": {},
   "source": []
  },
  {
   "cell_type": "markdown",
   "metadata": {},
   "source": []
  }
 ],
 "metadata": {
  "kernelspec": {
   "display_name": "Python 2",
   "language": "python",
   "name": "python2"
  },
  "language_info": {
   "codemirror_mode": {
    "name": "ipython",
    "version": 2
   },
   "file_extension": ".py",
   "mimetype": "text/x-python",
   "name": "python",
   "nbconvert_exporter": "python",
   "pygments_lexer": "ipython2",
   "version": "2.7.13"
  }
 },
 "nbformat": 4,
 "nbformat_minor": 2
}
