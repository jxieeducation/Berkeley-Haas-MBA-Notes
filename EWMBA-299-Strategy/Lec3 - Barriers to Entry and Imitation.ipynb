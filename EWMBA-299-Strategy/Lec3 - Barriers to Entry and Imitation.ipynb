{
 "cells": [
  {
   "cell_type": "markdown",
   "metadata": {},
   "source": [
    "### types of barriers to entry\n",
    "* legal barriers\n",
    "    * patents - scientific and process driven\n",
    "    * copyrights - creativity and expression (longer than patent ~ 100 years)\n",
    "    * trademarks - brand (forever)\n",
    "* quasi legal barriers\n",
    "    * trade secrets (e.g. coke formula, want to maintain secrecy forever)"
   ]
  },
  {
   "cell_type": "markdown",
   "metadata": {},
   "source": [
    "### Non legal barriers to entry\n",
    "* intangible barreirs\n",
    "    * causal ambiguity - make it confusing\n",
    "    * dependence on historical circumstances \n",
    "    * social complexity\n",
    "* incumbency advantages\n",
    "    * lower costs (economies of scale)"
   ]
  },
  {
   "cell_type": "markdown",
   "metadata": {},
   "source": [
    "### economies of scale in advertising\n",
    "* coke and pepsi spend less in per unit ad cost\n",
    "\n",
    "### experience curve\n",
    "* learning by doing\n",
    "\n",
    "### importance of market share\n",
    "* if all firms in an industry have the same experience curve, then: change in relative costs over time = f(relative market share)"
   ]
  },
  {
   "cell_type": "markdown",
   "metadata": {},
   "source": [
    "### Late mover advantages\n",
    "* don't be the guy in the front who end up dead\n",
    "\n",
    "### promotional advantages\n",
    "* brand - budweiser\n",
    "\n",
    "### incumbent disadvantages\n",
    "* comCast has bad branding\n",
    "\n",
    "### packing the product space\n",
    "* just horizontal and horizontal scaling?\n",
    "\n",
    "### experience goods\n",
    "* have to try to know if it's good\n",
    "* newcomers has to freemium\n",
    "* lose money on first try?\n",
    "\n",
    "### commitment through investment\n",
    "* railroad or steamboat?\n",
    "* railroad is more commitment - can't leave railroad business\n",
    "* use to intimidate"
   ]
  },
  {
   "cell_type": "markdown",
   "metadata": {},
   "source": [
    "### blocking entry through contract or vertical integration\n",
    "* vertical foreclosure: acquire scarce input making it more costly for rival\n",
    "* supplier - downstream users\n",
    "* look for bottlenecks and control it\n",
    "\n",
    "### credit suisse example\n",
    "1. First Boston - leading mortgage firm\n",
    "2. bought be credit suisse\n",
    "3. CS had a bad year, cut bonuses, the bankers in America basically left\n",
    "4. formed UBS, CS left with nothing"
   ]
  },
  {
   "cell_type": "markdown",
   "metadata": {},
   "source": [
    "### choosing barriers to entry\n",
    "* no copyright in America - fashion\n",
    "* examples of knockoffs\n",
    "\n",
    "### funny story\n",
    "* prof - \"which one will you buy for your wife? the 100 knockoff or 2000 dollars original?\"\n",
    "* classmate - \"the 2000\"\n",
    "* class claps"
   ]
  },
  {
   "cell_type": "markdown",
   "metadata": {},
   "source": [
    "* **put trademark outside the product, so that it's protectable ** (since TM is, but copyrights are not in America)\n",
    "* NYSE delays stats by 15m, so that people can't just trade without the NYSE (broker)"
   ]
  },
  {
   "cell_type": "markdown",
   "metadata": {},
   "source": [
    "### Monsanto\n",
    "* RoundUp - product that kills weeds (as well as plants)\n",
    "* introduced RoundUp resistant crops\n",
    "* now basically all crops are from Monsanto\n",
    "* had a problem that birds are spreading the crop to other fields - not defensible!!\n",
    "* added sterile gene / terminator gene, now subscription model for seeds (**like Adobe!!!**)"
   ]
  },
  {
   "cell_type": "code",
   "execution_count": null,
   "metadata": {
    "collapsed": true
   },
   "outputs": [],
   "source": []
  }
 ],
 "metadata": {
  "kernelspec": {
   "display_name": "Python 2",
   "language": "python",
   "name": "python2"
  },
  "language_info": {
   "codemirror_mode": {
    "name": "ipython",
    "version": 2
   },
   "file_extension": ".py",
   "mimetype": "text/x-python",
   "name": "python",
   "nbconvert_exporter": "python",
   "pygments_lexer": "ipython2",
   "version": "2.7.13"
  }
 },
 "nbformat": 4,
 "nbformat_minor": 2
}
