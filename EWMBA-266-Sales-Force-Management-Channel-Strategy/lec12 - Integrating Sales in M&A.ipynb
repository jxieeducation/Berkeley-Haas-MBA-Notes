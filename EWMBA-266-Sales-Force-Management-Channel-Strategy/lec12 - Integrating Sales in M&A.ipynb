{
 "cells": [
  {
   "cell_type": "markdown",
   "metadata": {},
   "source": []
  },
  {
   "cell_type": "markdown",
   "metadata": {},
   "source": [
    "### Yamini Rangan - VP of Revenue and Operations, Dropbox"
   ]
  },
  {
   "cell_type": "markdown",
   "metadata": {},
   "source": [
    "* sales planning process: (around 6 months / year)\n",
    "    1. finance top-down - revenue targets\n",
    "    2. drive bottom up plan - plan and targets\n",
    "    3. align comp system\n",
    "    4. finalize plan and territories \n",
    "    5. communicate plans and \"Fast starts\" (as in territories, quotas are all ready to go at the beginning of year)\n",
    " \n",
    "### How to drive Growth - top down vs bottom up\n",
    "* top-down - ARR = total addressable acc * presentation rate * win rate * ASP\n",
    "    * presentation rate - e.g. a presentation is a registered salesforce contact\n",
    "    * ASP (avg selling price)\n",
    "* bottom-up - Quota per AE * num AE\n",
    "    * num AE needs to account for attrition and ramp up time\n",
    "* path to quota - how you arrive @ a quota\n",
    "* rev growth + gross margins = magic # (needs to be greater than 40% to convince VCs the growth story)\n",
    "\n",
    "### How do you incentivize performance\n",
    "* behaviors \n",
    "    * drive net new team acquisition\n",
    "    * incentivize sellers to use efficient purchasing methods (e.g. online portal)\n",
    "    * reward performance for going over quota, increasing payout ramp\n",
    "    * drive total ARR (renewal + new acc)\n",
    "* key sales plan\n",
    "    * AE ramp up time\n",
    "    * plan cadence (quarterly vs annually)\n",
    "    * accelerators beyond 100% achievement\n",
    "    * multiyear accelerators (e.g. multiyear contract)\n",
    "\n",
    "### Data Driven Sales"
   ]
  },
  {
   "cell_type": "markdown",
   "metadata": {},
   "source": [
    "* what: leverage ML to predict propensity to buy, upsell, churn\n",
    "* when: customer acquisition, customer conversion, customer retention\n",
    "* prioritizing accounts with data science - build a score called the A-priori score\n",
    "    * the top 40% of accs with the score is responsible for 90% of rev\n",
    "* provides sales people with a tableau sheet\n",
    "    * shows a 2d graph of A-priori score vs lattice score\n",
    "    * (can also use this to manage terrotories)"
   ]
  },
  {
   "cell_type": "code",
   "execution_count": null,
   "metadata": {
    "collapsed": true
   },
   "outputs": [],
   "source": []
  }
 ],
 "metadata": {
  "kernelspec": {
   "display_name": "Python 2",
   "language": "python",
   "name": "python2"
  },
  "language_info": {
   "codemirror_mode": {
    "name": "ipython",
    "version": 2
   },
   "file_extension": ".py",
   "mimetype": "text/x-python",
   "name": "python",
   "nbconvert_exporter": "python",
   "pygments_lexer": "ipython2",
   "version": "2.7.13"
  }
 },
 "nbformat": 4,
 "nbformat_minor": 2
}
