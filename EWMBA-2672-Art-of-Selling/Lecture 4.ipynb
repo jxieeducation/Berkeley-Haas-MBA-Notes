{
 "cells": [
  {
   "cell_type": "markdown",
   "id": "7794a46e",
   "metadata": {},
   "source": [
    "## Qualification Methodologies\n",
    "\n",
    "* always be closing = always be qualifying"
   ]
  },
  {
   "cell_type": "markdown",
   "id": "256e9110",
   "metadata": {},
   "source": [
    "### MEDDIC / MEDDPIC\n",
    "* sales qualification method\n",
    "* charactertistics of MEDDIC\n",
    "    * short checklist\n",
    "    * activity based\n",
    "    * reveals gaps\n",
    "    * self-assessing\n",
    "    * brings common language to the team\n",
    "* Method:\n",
    "    * Metrics\n",
    "    * Economic Buyer\n",
    "    * Decision Process\n",
    "    * Decision Criteria\n",
    "    * Paper Process\n",
    "    * Identify Pain\n",
    "    * Champion\n",
    "    * Competition"
   ]
  },
  {
   "cell_type": "markdown",
   "id": "dfe641d9",
   "metadata": {},
   "source": [
    "#### Metric\n",
    "* eg. 12 months after implementing our strategy, company XYZ noticed monthly revenue increased by 200% compared to year before\n",
    "\n",
    "#### Economic Buyer\n",
    "* ICs want to know: How\n",
    "* Middle Mgmt want to know: What\n",
    "* EB / top mgmt want to know: Why\n",
    "* EB is hard to meet\n",
    "\n",
    "#### Decision Making Process (DMP)\n",
    "* e.g. discovery -> problem recognition -> demo -> information search -> alterantives eval -> POC -> Purchase decision -> proposal -> post-purchase evaluation\n",
    "\n",
    "#### Decision Criteria\n",
    "* https://meddic.academy/the-value-triangle/\n",
    "* value zone is most important\n",
    "* customer needs section can be \"promised\" - e.g. if you buy us, we'll fulfill"
   ]
  },
  {
   "cell_type": "markdown",
   "id": "df11097a",
   "metadata": {},
   "source": [
    "#### Paper Process\n",
    "* purchasing and legal departments deicsion making process - take time\n",
    "\n",
    "#### Identify Pain\n",
    "* core problem that you are resolving for prospect\n",
    "* EB usually has a perfect understanding of the pain, the consequences of non-deicsion and the expected outcome\n",
    "* middle mgmt does not\n",
    "\n",
    "#### Champion\n",
    "\n",
    "#### Competition\n",
    "\n"
   ]
  },
  {
   "cell_type": "markdown",
   "id": "15c8b949",
   "metadata": {},
   "source": [
    "### Say No to qualify and to close\n",
    "* saying no --> you move away from a desperate \"yes-man\" seller to the trusted advisor role\n",
    "* important to say No in 2 situations\n",
    "    * during qualifcation to better udnerstand what customer needs / determine fit\n",
    "    * during closure to accelrate the sales process"
   ]
  },
  {
   "cell_type": "code",
   "execution_count": null,
   "id": "d8021e27",
   "metadata": {},
   "outputs": [],
   "source": []
  }
 ],
 "metadata": {
  "kernelspec": {
   "display_name": "Python 3",
   "language": "python",
   "name": "python3"
  },
  "language_info": {
   "codemirror_mode": {
    "name": "ipython",
    "version": 3
   },
   "file_extension": ".py",
   "mimetype": "text/x-python",
   "name": "python",
   "nbconvert_exporter": "python",
   "pygments_lexer": "ipython3",
   "version": "3.9.7"
  }
 },
 "nbformat": 4,
 "nbformat_minor": 5
}
