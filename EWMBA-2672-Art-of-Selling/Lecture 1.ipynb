{
 "cells": [
  {
   "cell_type": "markdown",
   "id": "429bdf20",
   "metadata": {},
   "source": [
    "##### Sales process:\n",
    "* prospecting\n",
    "* research / approach\n",
    "* qualification\n",
    "* needs & analysis\n",
    "* presentation / proposal\n",
    "* handling objections\n",
    "* negotiations & closing"
   ]
  },
  {
   "cell_type": "markdown",
   "id": "c99a3c8f",
   "metadata": {},
   "source": [
    "##### 3 key components of a direct sales force\n",
    "* lead generator / qualifiers\n",
    "    * outbound reps\n",
    "    * inbound reps (webinars, word of mouth, SEO)\n",
    "* closers\n",
    "    * AE\n",
    "* farmers\n",
    "    * CS / Account Managers"
   ]
  },
  {
   "cell_type": "markdown",
   "id": "10e8bae6",
   "metadata": {},
   "source": [
    "#### pipeline\n",
    "* Pipeline = Marketing Qualified Leads (MQL) + Sales Qualified Leads (SQL)\n",
    "* MQL = Outbound marketing + Inbound marketing\n",
    "* SQL = prospecting"
   ]
  },
  {
   "cell_type": "markdown",
   "id": "ecc1a249",
   "metadata": {},
   "source": [
    "#### Prospecting rules\n",
    "1. regardless of method ... focus on the customer\n",
    "2. make it safe (no is okay)\n",
    "3. if it doesn't add, subtract\n",
    "4. tell the custoemr something they dont know\n",
    "5. remember: you have earned the right\n",
    "6. use credible and specific voice\n",
    "7. deliver compelling call to action"
   ]
  },
  {
   "cell_type": "code",
   "execution_count": null,
   "id": "3a4d8b65",
   "metadata": {},
   "outputs": [],
   "source": []
  }
 ],
 "metadata": {
  "kernelspec": {
   "display_name": "Python 3",
   "language": "python",
   "name": "python3"
  },
  "language_info": {
   "codemirror_mode": {
    "name": "ipython",
    "version": 3
   },
   "file_extension": ".py",
   "mimetype": "text/x-python",
   "name": "python",
   "nbconvert_exporter": "python",
   "pygments_lexer": "ipython3",
   "version": "3.9.7"
  }
 },
 "nbformat": 4,
 "nbformat_minor": 5
}
