{
 "cells": [
  {
   "cell_type": "markdown",
   "id": "f8cd15c4",
   "metadata": {},
   "source": [
    "* people anchor on their initial preferences\n",
    "* defend publicly stated positions\n",
    "* confirmation bias;"
   ]
  },
  {
   "cell_type": "markdown",
   "id": "300986a3",
   "metadata": {},
   "source": [
    "* logos / ethos / pathos\n",
    "* reciprocity\n",
    "    * concessions - ask more, then ask less\n",
    "* commitment & reciprocity\n",
    "* social proof\n",
    "* authority\n",
    "    * legitimate authority\n",
    "    * expertize\n",
    "* scarcity\n",
    "* liking\n",
    "    * we listen to people that like\n",
    "    * we like people that are similar to us"
   ]
  },
  {
   "cell_type": "markdown",
   "id": "f22745b6",
   "metadata": {},
   "source": []
  },
  {
   "cell_type": "code",
   "execution_count": null,
   "id": "3bb82434",
   "metadata": {},
   "outputs": [],
   "source": []
  },
  {
   "cell_type": "code",
   "execution_count": null,
   "id": "a32ff3fe",
   "metadata": {},
   "outputs": [],
   "source": []
  }
 ],
 "metadata": {
  "kernelspec": {
   "display_name": "Python 3",
   "language": "python",
   "name": "python3"
  },
  "language_info": {
   "codemirror_mode": {
    "name": "ipython",
    "version": 3
   },
   "file_extension": ".py",
   "mimetype": "text/x-python",
   "name": "python",
   "nbconvert_exporter": "python",
   "pygments_lexer": "ipython3",
   "version": "3.9.4"
  }
 },
 "nbformat": 4,
 "nbformat_minor": 5
}
