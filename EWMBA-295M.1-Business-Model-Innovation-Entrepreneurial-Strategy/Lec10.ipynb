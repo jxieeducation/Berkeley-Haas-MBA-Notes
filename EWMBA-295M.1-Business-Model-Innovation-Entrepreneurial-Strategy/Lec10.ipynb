{
 "cells": [
  {
   "cell_type": "markdown",
   "metadata": {},
   "source": [
    "## Interesting Quotes\n",
    "* The events are more than just data\n",
    "* You have to watch for the lighthouse moments when you think everything changed\n",
    "* 4 years ago, we were like, we're in a bubble; look at where we're at now!\n",
    "* don't shoot to become FB, shoot to build a solid business; the numbers can fool you\n",
    "* there's no shortage of money going forward - there're tons more of high networth individuals and funds seeking alpha\n",
    "* It's important to have a stance on a rising market as an entrepreneur\n",
    "* Don't be a pioneer, be a follower\n",
    "* ** Regularly research an industry and analyze it. Look at 3 companies and conclude: 1. what market? 2. what companies? 3. what's the future (thesis)? **"
   ]
  },
  {
   "cell_type": "markdown",
   "metadata": {},
   "source": [
    "### important events\n",
    "* 1993 - Mosaic\n",
    "* somewhere here - Ron Conway - SV Angel - Invested in startups spray and pray style - Google exit!\n",
    "* 2003 - Steve Blank - Customer Development\n",
    "* 2005 - YC\n",
    "* 2007 - iPhone\n",
    "* 2010 - Business Model Canvas\n",
    "* 2011 - Lean Startup"
   ]
  },
  {
   "cell_type": "markdown",
   "metadata": {},
   "source": [
    "* we have a lot of unicorns today because of post-money val. Some startups don't want a down round, so they start throwing a lot of rights and favorable terms to boost valuation\n",
    "* when Netflix started, DVD just became a thing. They put a flyer inside every DVD player, they hit the nail on the head since DVD player manufacturers needed Netflix\n",
    "* ways to make money on research: liscence IP, build a component / sell to OEM"
   ]
  },
  {
   "cell_type": "markdown",
   "metadata": {},
   "source": [
    "## Team Thesis\n",
    "* Transportation and Asset Sharing - network effects will make these companies defensible \n",
    "* social impact fundraising - donations in the future will be recurring, instead of 1 shot\n",
    "* behavioral health - you don't need to be fit to enjoy health benefits of yoga\n",
    "* education / career planning - people will pay for career planning\n",
    "* esports - industry will continue to professionalize (like NFL)\n",
    "* blockchain - if you can replace blockchain with \"database\", you don't need blockchain"
   ]
  },
  {
   "cell_type": "code",
   "execution_count": null,
   "metadata": {
    "collapsed": true
   },
   "outputs": [],
   "source": []
  }
 ],
 "metadata": {
  "kernelspec": {
   "display_name": "Python 2",
   "language": "python",
   "name": "python2"
  },
  "language_info": {
   "codemirror_mode": {
    "name": "ipython",
    "version": 2
   },
   "file_extension": ".py",
   "mimetype": "text/x-python",
   "name": "python",
   "nbconvert_exporter": "python",
   "pygments_lexer": "ipython2",
   "version": "2.7.13"
  }
 },
 "nbformat": 4,
 "nbformat_minor": 2
}
