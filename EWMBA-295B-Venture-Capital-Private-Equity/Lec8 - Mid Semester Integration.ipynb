{
 "cells": [
  {
   "cell_type": "markdown",
   "metadata": {},
   "source": [
    "* buyer vs seller - is the VC a buyer or seller atm?\n",
    "    * pro rata - keep same % going forward - e.g. always 20% of the company\n",
    "    * VC from seed in a series A who has prorata, is both a buyer and a seller\n",
    "* meet a VC insights:\n",
    "    * Adam Draper - wanted to find an undervalued field\n",
    "        * reached out to coinbase, heard about bitcoin for the first time\n",
    "    * Paul Holland - foundation capital\n",
    "        * started in nuclear winter - too cautious, missed out on great companies\n",
    "        * very very humble and low key\n"
   ]
  },
  {
   "cell_type": "markdown",
   "metadata": {},
   "source": [
    "## Byron Deeter - Beseemer\n",
    "* twillio 200k seed round to IPO\n",
    "* started w/ Bob White (governor)\n",
    "* Cal Rugby - work your butt off, pay your dues\n",
    "* founded Trigo, raised money in 2000 summer, got beaten up\n",
    "* Bessemer \n",
    "    * competitive adv - roadmap driven\n",
    "    * top down macro scan, instead of opportunistic inbound\n",
    "* trends:\n",
    "    * UI will be replaced with hidden UI e.g. voice\n",
    "* Anti-portfolio\n",
    "    * list of unicorns that they missed\n",
    "* SAFE vs Convertible Note\n",
    "    * SAFE - YC options to buy in at a later round\n",
    "    * Convertible Note / debt - anti entrepreneur"
   ]
  },
  {
   "cell_type": "markdown",
   "metadata": {},
   "source": []
  },
  {
   "cell_type": "markdown",
   "metadata": {},
   "source": []
  },
  {
   "cell_type": "markdown",
   "metadata": {},
   "source": []
  },
  {
   "cell_type": "markdown",
   "metadata": {},
   "source": []
  }
 ],
 "metadata": {
  "kernelspec": {
   "display_name": "Python 2",
   "language": "python",
   "name": "python2"
  },
  "language_info": {
   "codemirror_mode": {
    "name": "ipython",
    "version": 2
   },
   "file_extension": ".py",
   "mimetype": "text/x-python",
   "name": "python",
   "nbconvert_exporter": "python",
   "pygments_lexer": "ipython2",
   "version": "2.7.13"
  }
 },
 "nbformat": 4,
 "nbformat_minor": 2
}
