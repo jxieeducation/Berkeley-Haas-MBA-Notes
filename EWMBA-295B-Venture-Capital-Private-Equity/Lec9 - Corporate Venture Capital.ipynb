{
 "cells": [
  {
   "cell_type": "markdown",
   "metadata": {},
   "source": [
    "## Intel Capital Case\n",
    "\n",
    "### Corporate VC vs Private VC\n",
    "* metric - strategic vs IRR\n",
    "* process - complex (financial / ops) vs Monday meetings\n",
    "* compensation - salary + stock vs carry + fee\n",
    "* primary biz - variety vs VC\n",
    "\n",
    "### Intel 64 Operating Fund\n",
    "* Intel 100MM\n",
    "* 3 to 5 OEM (original equipment manufacturuer) + a few individuals\n",
    "\n",
    "### Early Adopter Fund\n",
    "* 8 to 10 CIO / customers\n",
    "* Morgan Stanley\n",
    "\n",
    "### Investor Committee\n",
    "* 1 intel, rest is OEM\n",
    "\n",
    "### Decision Process\n",
    "* intel decides to invest\n",
    "* intel says \"is it I64 related?\"\n",
    "* IC votes - 2 votes to pass\n",
    "* if vote doesn't pass, intel invests anyways (Intel is looking for industry participation)"
   ]
  },
  {
   "cell_type": "markdown",
   "metadata": {},
   "source": [
    "## Sean Doyle - Intel Capital \n",
    "* invest in businesses that drive Intel e.g. cloud, storage\n",
    "* how do you reconcile conflicts between VC and biz unit? depends, in some cases, will \"disagree to commit\""
   ]
  },
  {
   "cell_type": "markdown",
   "metadata": {},
   "source": [
    "## George Hoyem - In-Q-Tel\n",
    "* supports CIA and intelligence community\n",
    "* connecting: gov, VC, startups\n",
    "    * It's important, because you don't just call up the CIA and say hey there!\n",
    "* non profit, very strategic\n",
    "* co-invests a lot, never leads, 1 dollar of IQT to 15 dollars of other people's money\n",
    "* success story: Keyhole (became Google Earth), Palentir (paypal security technology), Fire Eye, Cloudera, Mobile iron"
   ]
  },
  {
   "cell_type": "markdown",
   "metadata": {},
   "source": []
  },
  {
   "cell_type": "markdown",
   "metadata": {},
   "source": []
  },
  {
   "cell_type": "markdown",
   "metadata": {},
   "source": []
  },
  {
   "cell_type": "markdown",
   "metadata": {},
   "source": []
  },
  {
   "cell_type": "markdown",
   "metadata": {},
   "source": []
  },
  {
   "cell_type": "markdown",
   "metadata": {},
   "source": []
  },
  {
   "cell_type": "markdown",
   "metadata": {},
   "source": []
  }
 ],
 "metadata": {
  "kernelspec": {
   "display_name": "Python 2",
   "language": "python",
   "name": "python2"
  },
  "language_info": {
   "codemirror_mode": {
    "name": "ipython",
    "version": 2
   },
   "file_extension": ".py",
   "mimetype": "text/x-python",
   "name": "python",
   "nbconvert_exporter": "python",
   "pygments_lexer": "ipython2",
   "version": "2.7.13"
  }
 },
 "nbformat": 4,
 "nbformat_minor": 2
}
