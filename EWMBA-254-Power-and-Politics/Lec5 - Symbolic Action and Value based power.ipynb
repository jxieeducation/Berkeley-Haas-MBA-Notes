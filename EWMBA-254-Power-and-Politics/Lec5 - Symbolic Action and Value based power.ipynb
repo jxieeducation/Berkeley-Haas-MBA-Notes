{
 "cells": [
  {
   "cell_type": "markdown",
   "metadata": {},
   "source": [
    "* values: what's important\n",
    "* beliefs: how things work\n",
    "* norms: how members should behave\n",
    "* strong vs weak culture - consensus and intensity\n",
    "* make meaning\n",
    "    * people constantly seek to understand their world. what behaviors and artifacts mean is key.\n",
    "* vision drivers\n",
    "    * vision: image of future rooted in core ideology\n",
    "        * clear, appealing, inspirational\n",
    "        * meaningful, agentic, indispensible, self-led and trusted, seeing results\n",
    "    * examples from the top\n",
    "    * language, symbols, stories, heros - stories convey values convincingly\n",
    "    * reward systems\n",
    "    * ceremony and ritual\n",
    "    * commitment through behavior\n",
    "* **paint a shining city on top of the hill**\n",
    "    * something bigger\n",
    "* agency - people feel like they can change things"
   ]
  },
  {
   "cell_type": "markdown",
   "metadata": {},
   "source": [
    "* extrinsic motivation - elicits kizushi\n",
    "* intrinsic motivation - pull towards task\n",
    "* analyzing org culture\n",
    "    * artificats - observables\n",
    "    * values - espoused and in-use\n",
    "    * underlying assumptions - unconscious, taken for granted beliefs, ahbits of perception, thoughts and feelings\n",
    "* 3 levels of commitment\n",
    "    * compliance (extrinsic)\n",
    "    * identification\n",
    "    * internationalization (intrinsic)\n",
    "* attitudes are comprised of values, beliefs and behaviors\n",
    "    * when they are consistent, we feel comfortable\n",
    "    * otherwise, cognitive dissonance"
   ]
  },
  {
   "cell_type": "markdown",
   "metadata": {},
   "source": [
    "* \"to the extent that investments and behaviors are perceived to be voluntary, active (public and written), costly and irrevocable, they are perceived to be more intrinsically motivated and less extrinsically motivated\"\n",
    "    * voluntary\n",
    "    * public and written\n",
    "    * costly - increasingly expensive\n",
    "    * irrevocable\n",
    "* rewards and punishments\n",
    "    * large rewards and severe puinishments are extrinsic\n",
    "    * small rewards or punishment, lead to permanent change"
   ]
  },
  {
   "cell_type": "markdown",
   "metadata": {},
   "source": []
  }
 ],
 "metadata": {
  "kernelspec": {
   "display_name": "Python 2",
   "language": "python",
   "name": "python2"
  },
  "language_info": {
   "codemirror_mode": {
    "name": "ipython",
    "version": 2
   },
   "file_extension": ".py",
   "mimetype": "text/x-python",
   "name": "python",
   "nbconvert_exporter": "python",
   "pygments_lexer": "ipython2",
   "version": "2.7.13"
  }
 },
 "nbformat": 4,
 "nbformat_minor": 2
}
