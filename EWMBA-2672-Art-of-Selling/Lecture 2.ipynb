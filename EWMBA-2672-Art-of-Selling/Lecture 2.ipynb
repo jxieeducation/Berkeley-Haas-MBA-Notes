{
 "cells": [
  {
   "cell_type": "markdown",
   "id": "e8d6c4ea",
   "metadata": {},
   "source": [
    "#### Selling questions\n",
    "1. Why buy anything?\n",
    "2. Why from me?\n",
    "3. Why now? \n",
    "\n",
    "#### Why buy anything?\n",
    "0. all buying decisions are emotional\n",
    "1. desire for gain\n",
    "2. desire to avoid pain (stronger)\n",
    "\n",
    "#### Why now?\n",
    "* FOMO\n",
    "* hot deadliens\n",
    "* pressure of missed revenue\n",
    "* pressure of savings"
   ]
  },
  {
   "cell_type": "markdown",
   "id": "8c21afe4",
   "metadata": {},
   "source": [
    "#### B2C value pyramids\n",
    "* functional -> emotional -> life changing -> social impact\n",
    "\n",
    "#### B2B value pyramids\n",
    "* table stakes -> functional value -> ease of doing business -> individual value -> inspiration value\n",
    "* example: value paths -> critical capabilities -> business initiatives -> business strategy -> corporate level objectives"
   ]
  },
  {
   "cell_type": "markdown",
   "id": "292bf967",
   "metadata": {},
   "source": [
    "Pre-sales\n",
    "* corporate research: owlers, D&B hoovers\n"
   ]
  },
  {
   "cell_type": "markdown",
   "id": "59a03ec0",
   "metadata": {},
   "source": [
    "## Short elevator pitch\n",
    "* what's your problem\n",
    "* what's the implication\n",
    "* hey, this is what we do!!!"
   ]
  },
  {
   "cell_type": "markdown",
   "id": "16a80d85",
   "metadata": {},
   "source": [
    "#### SCI-PAB\n",
    "* Situation \n",
    "* Complication\n",
    "* Implication\n",
    "* Position\n",
    "* Action\n",
    "* Benefits"
   ]
  },
  {
   "cell_type": "markdown",
   "id": "d6976b8d",
   "metadata": {},
   "source": [
    "#### DISC profiles (behavioral)\n",
    "* D - dominance: how you handle problems & challenges\n",
    "* I - influence: how you handle people & influence others\n",
    "* S - steadiness: how you handle changes & pace yourself\n",
    "* C - compliacne: how you handle rules & procedures"
   ]
  },
  {
   "cell_type": "markdown",
   "id": "d9505e8c",
   "metadata": {},
   "source": []
  },
  {
   "cell_type": "markdown",
   "id": "8f913faf",
   "metadata": {},
   "source": []
  }
 ],
 "metadata": {
  "kernelspec": {
   "display_name": "Python 3",
   "language": "python",
   "name": "python3"
  },
  "language_info": {
   "codemirror_mode": {
    "name": "ipython",
    "version": 3
   },
   "file_extension": ".py",
   "mimetype": "text/x-python",
   "name": "python",
   "nbconvert_exporter": "python",
   "pygments_lexer": "ipython3",
   "version": "3.9.7"
  }
 },
 "nbformat": 4,
 "nbformat_minor": 5
}
