{
 "cells": [
  {
   "cell_type": "markdown",
   "metadata": {},
   "source": [
    "### Interesting quotes\n",
    "* Anyone here can be Elon Musk, but you need to adjust your personality and goals\n",
    "* This is a money problem, nothing else\n",
    "* Here is a tip to the entrepreneurs, \"Don't go into 3D printing, but figure out how to make the product using the 3D printers fast\""
   ]
  },
  {
   "cell_type": "markdown",
   "metadata": {},
   "source": [
    "* TaaS (transporation as a service)\n",
    "* [Seba technology disruption framework](https://tonyseba.com/wp-content/uploads/2014/05/STDF-booklet-binding-ok.pdf)\n",
    "* disruption model\n",
    "    * from below - starts inferior\n",
    "    * from above - starts superiod e.g. uber to cabs, smartphones\n",
    "    * architectual - change how product / services are produced / managed\n",
    "    * big bang - 10x on everything e.g. internet\n",
    "\n",
    "### how to predict the future\n",
    "1. used to: some expert + happy people -> predict the future\n",
    "2. scenario planning \n",
    "3. model of markets (data on supply and demand)\n",
    "    * lots of smaller markets, e.g. coursera demand for AI classes in Argentina in July"
   ]
  },
  {
   "cell_type": "markdown",
   "metadata": {},
   "source": [
    "![alt](http://i2.wp.com/www.business-planning-for-managers.com/Worpress/wp-content/uploads/2012/01/adoption_curve.jpg)\n",
    "\n",
    "* market adoption curve - the hard part is figuring out how long t is before it kicks off \n",
    "    * think 3D printing, been around since 80s"
   ]
  },
  {
   "cell_type": "markdown",
   "metadata": {},
   "source": [
    "### Zoox Autonomous Vehicle case\n",
    "* 2037, what transporation business models will exist?\n",
    "    * transporation as a utility\n",
    "    * transportation as part of a product (e.g. dentist plan)\n",
    "    * TaaS\n",
    "    * parking will vanish\n",
    "    * ownership\n",
    "    * car as profit source (e.g. renting while you are on vacation)\n",
    "    * autonomous airplanes\n",
    "    * vehicle as venue (e.g. movie theater)\n",
    "    * transport as housing\n",
    "* today\n",
    "    * ownership\n",
    "    * pay as you go (public transportation)\n",
    "    * manufacturing\n",
    "    * insurance\n",
    "    * parking\n",
    "    * gas\n",
    "    * finance\n",
    "    * highway (tolls)\n",
    "    * taxation\n",
    "* ZooX \n",
    "    * TaaS\n",
    "    * if you are ZooX, what biz model will you use? subscription? or upfront?\n",
    "* biz plan 1: build / operate your own (ZooX owns cars themselves)\n",
    "    * calculation - 20 per hour, 75% utilization, 360 bucks a day\n",
    "    * if car is 20k (in the same ball park as Tesla Model S), 55 day break even\n",
    "    * weak to incumbants, because you can't scale that fast and capture all the market rapidly\n",
    "* biz plan 2: consumer own, someone else owns the vehicles, ZooX just liscences the tech\n",
    "    * but people can just rent a tesla, and use its driving system to compete with ZooX"
   ]
  },
  {
   "cell_type": "markdown",
   "metadata": {},
   "source": [
    "### MakerBot case\n",
    "* open sourced the tech - hobbyist\n",
    "* order -> blackbox (machine tools) -> output\n",
    "* carbon3d, \"look at the data, and it will tell you when it's really replacing manufacturing\"\n",
    "    * they promise that it's already replacing everything"
   ]
  },
  {
   "cell_type": "code",
   "execution_count": null,
   "metadata": {
    "collapsed": true
   },
   "outputs": [],
   "source": []
  }
 ],
 "metadata": {
  "kernelspec": {
   "display_name": "Python 2",
   "language": "python",
   "name": "python2"
  },
  "language_info": {
   "codemirror_mode": {
    "name": "ipython",
    "version": 2
   },
   "file_extension": ".py",
   "mimetype": "text/x-python",
   "name": "python",
   "nbconvert_exporter": "python",
   "pygments_lexer": "ipython2",
   "version": "2.7.13"
  }
 },
 "nbformat": 4,
 "nbformat_minor": 2
}
