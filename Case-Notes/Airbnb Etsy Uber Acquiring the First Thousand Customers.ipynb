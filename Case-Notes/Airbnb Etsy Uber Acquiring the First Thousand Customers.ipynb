{
 "cells": [
  {
   "cell_type": "markdown",
   "metadata": {},
   "source": [
    "## Airbnb\n",
    "### Background\n",
    "* design conference in town, limited hotel space, made a site of their room with promise of air mattress and breakfast\n",
    "### Early growth\n",
    "* \"pure unadulterated hustle\" - cereals\n",
    "### Craigslist Platform Integration\n",
    "* craigslist had fraud, but also had a lot of users\n",
    "* offered users who listed on Airbnb the same opportunity to post on Craigslist as well\n",
    "* hard to do, but the engineering solution worked out\n",
    "* benefits:\n",
    "    * got airbnb users more rev\n",
    "    * also enlisted previous non-airbnb users from craigslist\n",
    "### Craigslist Poaching\n",
    "* \"black hat operation\" - send user reviews to craigslist posts saying that they should also post on Airbnb\n",
    "* supply side was harder for craigslist\n",
    "\n",
    "### international expansion\n",
    "* restarting at every country, because they need to scale both sides of the market every time\n",
    "* did A/B testing on FB ads vs in person outbound sales, found outbound to be 5x more cost efficient\n",
    "* \"sometimes it's beneficial to do things that don't scale, because a non-scalable tactic might be more scalable than initially thought\""
   ]
  },
  {
   "cell_type": "markdown",
   "metadata": {},
   "source": [
    "## Etsy\n",
    "### Background\n",
    "* 2005, MVP, built to help a cofounder sell woodworking stuff\n",
    "* 2015 IPO\n",
    "\n",
    "### Early growth\n",
    "* Etsy had a team attending art and craft shows every weekend\n",
    "    * bought lunch for influential people or gave them promotional material\n",
    "* basically courted established artisan\n",
    "* well established high quality sellers! \n",
    "    * basically bought on loyal customers from these sellers\n",
    "* succeeded in competing with Ebay"
   ]
  },
  {
   "cell_type": "markdown",
   "metadata": {},
   "source": [
    "## Uber\n",
    "* started out as a life style company to summon black cars in 8 mins\n",
    "* people originally called cabs by waving their hands...\n",
    "* had to deal with cash / tip / change problems with cabs\n",
    "\n",
    "### Early Growth\n",
    "* solving problems for riders\n",
    "    * tackled the whole end to end problem and made it superior\n",
    "* driven substantially by word of mouth from superior experience"
   ]
  },
  {
   "cell_type": "markdown",
   "metadata": {},
   "source": []
  }
 ],
 "metadata": {
  "kernelspec": {
   "display_name": "Python 2",
   "language": "python",
   "name": "python2"
  },
  "language_info": {
   "codemirror_mode": {
    "name": "ipython",
    "version": 2
   },
   "file_extension": ".py",
   "mimetype": "text/x-python",
   "name": "python",
   "nbconvert_exporter": "python",
   "pygments_lexer": "ipython2",
   "version": "2.7.13"
  }
 },
 "nbformat": 4,
 "nbformat_minor": 2
}
