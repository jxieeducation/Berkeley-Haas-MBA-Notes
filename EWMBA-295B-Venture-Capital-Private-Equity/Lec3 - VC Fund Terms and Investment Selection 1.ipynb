{
 "cells": [
  {
   "cell_type": "markdown",
   "metadata": {},
   "source": [
    "### quotes\n",
    "* you can't be both a VC and an entrepreneur, it's like saying, I am very into dinning, so I am thinking of being a patron or chef"
   ]
  },
  {
   "cell_type": "markdown",
   "metadata": {},
   "source": [
    "* 1620 - pilgrims - the Dutch were the original venture backers (origin of venture capital)\n",
    "\n",
    "## ACME case\n",
    "* big team, big fund 2M\n",
    "* old - 1 fee, 20 carry\n",
    "* new - 1.5 fee, 15  carry\n",
    "* carry = percent of profit\n",
    "    * if 100M -> 200M, at a 15 carry, the carry amount is (200 - 100) * 0.15\n",
    "* fee = percent of committed capital per year\n",
    "    * 3 types of calculation\n",
    "        * committed capital - default (since the other 2 sucks)\n",
    "        * called capital - VCs just called all the capital in the beginning (Eastern fund)\n",
    "        * current fund value - VCs just overvalued the securities / auditors are easy to fool (Western fund)\n",
    "* capital call - when GP gets money from LP\n",
    "    * if LP misses the call (e.g. 10 days), some GPs can just take whatever committed funds the LP invested in and cut them loose\n",
    "    * LP doesn't need to commit capital until the capital call\n",
    "* if demand (e.g. $2b) exceeds supply (e.g. $1b) of available funds to invest, the firm can demand more fees\n",
    "* by looking at if fee structure changes, we can tell if the VC is bullish or not\n",
    "    * term \n",
    "        * lower fee / higher carry - long term\n",
    "        * higher fee / lower carry - short term\n",
    "    * risk \n",
    "        * lower fee / higher carry - high risk\n",
    "        * higher fee / lower carry - low risk\n",
    "    * measure\n",
    "        * lower fee / higher carry - low\n",
    "        * higher fee / lower carry - high\n",
    "    * fund size\n",
    "        * lower fee / higher carry - small capital\n",
    "        * higher fee / lower carry - large capital\n",
    "    * liquidity\n",
    "        * lower fee / higher carry - low\n",
    "        * higher fee / lower carry - high"
   ]
  },
  {
   "cell_type": "markdown",
   "metadata": {},
   "source": [
    "* it's easier to raise carry than fees, since fees eat into what you have to work with.\n",
    "    * if you take 2 percent, over 10 years, you can only work w/ 80 percent of your fund size, and you are pressued to produce a good alpha with only 80 percent of capital"
   ]
  },
  {
   "cell_type": "markdown",
   "metadata": {},
   "source": [
    "## Autotech Ventures - Quin Garcia\n",
    "* Cornell -> Stanford -> Better Place -> Autotech Ventures (took him 3 years to raise the fund)\n",
    "* 30 LPs of transport execs, entrepreneurs and VCs\n",
    "* 8 companies in portfolio\n",
    "    * lyft\n",
    "        * rationale - exit would probably be more than 2bn, will probably be acquired, so low risk, more upsides\n",
    "        * Lyft Waymo collaboration - autonomous vehicle partnership, instead of in-house team\n",
    "    * Outdoorsy - Airbnb for RVs and motorhomes\n",
    "        * Kevel noted that he'd never invest, because the market is too small\n",
    "        * great expansion so far\n",
    "    * metawave - more IP focused, since it's a sensor company\n",
    "    * deep scale\n",
    "* lots of strategic LPs, easier to get info on industry\n",
    "    * maybe the same w/ Google's Gradient Vectures...etc., to get a good pulse on the industry\n",
    "\n",
    "### how deals happened\n",
    "* hear about deal\n",
    "* review with GPs\n",
    "* if someone wants to chase the deal, start the due-diligence\n",
    "* invite team\n",
    "* reach out to competitors\n",
    "* vote\n",
    "* term sheet\n",
    "* actively work w/ entrepreneurs on corporate strategy"
   ]
  },
  {
   "cell_type": "markdown",
   "metadata": {},
   "source": []
  },
  {
   "cell_type": "markdown",
   "metadata": {},
   "source": []
  },
  {
   "cell_type": "markdown",
   "metadata": {},
   "source": []
  }
 ],
 "metadata": {
  "kernelspec": {
   "display_name": "Python 2",
   "language": "python",
   "name": "python2"
  },
  "language_info": {
   "codemirror_mode": {
    "name": "ipython",
    "version": 2
   },
   "file_extension": ".py",
   "mimetype": "text/x-python",
   "name": "python",
   "nbconvert_exporter": "python",
   "pygments_lexer": "ipython2",
   "version": "2.7.13"
  }
 },
 "nbformat": 4,
 "nbformat_minor": 2
}
