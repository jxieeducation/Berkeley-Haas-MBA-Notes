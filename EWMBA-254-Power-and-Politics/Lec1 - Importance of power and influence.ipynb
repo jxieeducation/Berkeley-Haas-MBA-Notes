{
 "cells": [
  {
   "cell_type": "markdown",
   "metadata": {},
   "source": [
    "* power is not necessarily evil.\n",
    "    * you can use it to protect what you believe in\n",
    "    * \"power is like a hammer, good or bad depends on how you use it\"\n",
    "* Xerox parc - invented many things, but known for producing none of them, because the program manager didn't know how to influence\n",
    "* power, the ability to get people to do things that they otherwise would not want to do\n",
    "    * influence over things that you care about\n",
    "* politics - power in use\n",
    "* \"behind every fortune is a great crime\"\n",
    "* culture - shared views of the world\n",
    "* \"whenever there is innovation, there will be conflict\"\n",
    "* \"you can think of a company as a goverment, everyone has a different interest\"\n",
    "* failing upward - people who do what's good for them, but not org"
   ]
  },
  {
   "cell_type": "markdown",
   "metadata": {},
   "source": [
    "* how to predict the amount of politics at a workplace?\n",
    "    * homegeneity of interests\n",
    "    * amount of resources\n",
    "    * uncertainty\n",
    "* reasons for not having power:\n",
    "    * idealism \n",
    "    * articulation\n",
    "    * corporate take over\n",
    "    * hierarchical org\n",
    "    * geography\n",
    "    * role / career has little power\n",
    "    * poor strategic positioning"
   ]
  },
  {
   "cell_type": "markdown",
   "metadata": {},
   "source": [
    "* theory: a model, a map, a framework about how the world works\n",
    "    * don't need to be accurate, just need to be useful\n",
    "* maps (e.g. google maps) are not about details, but about how to be useful to people who use it\n",
    "* lens (take on a perspective, ignore everything else)"
   ]
  },
  {
   "cell_type": "code",
   "execution_count": null,
   "metadata": {
    "collapsed": true
   },
   "outputs": [],
   "source": []
  }
 ],
 "metadata": {
  "kernelspec": {
   "display_name": "Python 2",
   "language": "python",
   "name": "python2"
  },
  "language_info": {
   "codemirror_mode": {
    "name": "ipython",
    "version": 2
   },
   "file_extension": ".py",
   "mimetype": "text/x-python",
   "name": "python",
   "nbconvert_exporter": "python",
   "pygments_lexer": "ipython2",
   "version": "2.7.13"
  }
 },
 "nbformat": 4,
 "nbformat_minor": 2
}
