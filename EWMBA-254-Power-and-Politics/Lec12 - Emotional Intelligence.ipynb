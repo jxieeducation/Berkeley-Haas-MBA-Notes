{
 "cells": [
  {
   "cell_type": "markdown",
   "metadata": {},
   "source": [
    "* emotional intelligence\n",
    "    * knowledge is power\n",
    "    * emotional intelligence is power\n",
    "    * know yourself\n",
    "    * know others\n",
    "    * regulate yourself\n",
    "    * regulate others"
   ]
  },
  {
   "cell_type": "markdown",
   "metadata": {},
   "source": [
    "### Paul Ekman Lie Detection Program\n",
    "* anger - eyebrows down and together, eyes glare, narrowing of the lips\n",
    "* contempt - lip corner tightened and raised on only one side of face\n",
    "* fear - eyebrows raised and pulled together, raised upper eyelids, tensed lower eyelids, lips slightly stretched horizontally back to ears\n",
    "* disgust - noise wrinkling, upper lip raised\n",
    "* happiness - crow's feet wrinkles, pushed up cheeks, movement from muscle that orbits the eye\n",
    "* sadness - drooping upper eyelids, losing focus in eye, slight pulling down of lip corners\n",
    "* surprise - eyebrows raised, eyes widen, mouth open"
   ]
  },
  {
   "cell_type": "markdown",
   "metadata": {},
   "source": []
  },
  {
   "cell_type": "markdown",
   "metadata": {},
   "source": []
  },
  {
   "cell_type": "markdown",
   "metadata": {},
   "source": []
  }
 ],
 "metadata": {
  "kernelspec": {
   "display_name": "Python 2",
   "language": "python",
   "name": "python2"
  },
  "language_info": {
   "codemirror_mode": {
    "name": "ipython",
    "version": 2
   },
   "file_extension": ".py",
   "mimetype": "text/x-python",
   "name": "python",
   "nbconvert_exporter": "python",
   "pygments_lexer": "ipython2",
   "version": "2.7.13"
  }
 },
 "nbformat": 4,
 "nbformat_minor": 2
}
