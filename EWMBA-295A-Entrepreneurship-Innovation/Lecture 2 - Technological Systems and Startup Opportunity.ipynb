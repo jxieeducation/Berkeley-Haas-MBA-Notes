{
 "cells": [
  {
   "cell_type": "markdown",
   "metadata": {},
   "source": [
    "### quotes:\n",
    "* someone wanted to build a game on google maps. their mvp didn't work out. 2 years alter, they came back and asked, we want to do the same idea, but instead of shards, do Pokemon\n",
    "* Marc founded Tesla. Back in the day, they got their first break by building a kindle of its day. Then with that money, they build a roadster that could go from 0-60 in 3.9s.\n",
    "    * ** figure out where electric cars beat existing systems **\n",
    "    * in Tesla's case, it's the 0-60 time"
   ]
  },
  {
   "cell_type": "markdown",
   "metadata": {},
   "source": [
    "### Clinsense - Edward Yip\n",
    "* problem: patient drop out in clinical trials\n",
    "* create patient dropoit score, time series modeling\n",
    "* market opportunity:\n",
    "    * upcoming patent cliff for blockbuster drugs\n",
    "    * inceasing globalization of clinical trials\n",
    "    * higher adoption of tech\n",
    "    * growing clinical trial industry\n",
    "* biz model: saas\n"
   ]
  },
  {
   "cell_type": "markdown",
   "metadata": {},
   "source": [
    "### Technical system\n",
    "* cars - insurance, oil, parking\n",
    "* entrepreneurs are system builders\n",
    "* phases:\n",
    "    1. invention - there's always a mature system in place, that you need to try to disrupt\n",
    "    2. development\n",
    "    3. innovation - what's a market that'd need this? find a niche, the blue ocean\n",
    "        * Uber - Limos, limos waited and were not at capacity\n",
    "    4. growth\n",
    "        * a great way to get new ideas is to layer it on top of another system\n",
    "    5. consolidation\n",
    "    "
   ]
  },
  {
   "cell_type": "markdown",
   "metadata": {},
   "source": [
    "### How to find blue ocean?\n",
    "* mature vs emerging\n",
    "* **list properties of mature vs emerging**\n",
    "* ** figure out where some of these properties will be important **\n",
    "\n",
    "### telegraph vs telephone example\n",
    "#### telegraph\n",
    "* clear written\n",
    "* large network\n",
    "* user behavior\n",
    "* biz model\n",
    "\n",
    "#### telephone\n",
    "* personal\n",
    "* ez to use\n",
    "* always open\n",
    "\n",
    "#### where is telephone better?\n",
    "   "
   ]
  },
  {
   "cell_type": "markdown",
   "metadata": {},
   "source": [
    "** Don't compete with the mature system**"
   ]
  },
  {
   "cell_type": "code",
   "execution_count": null,
   "metadata": {
    "collapsed": true
   },
   "outputs": [],
   "source": []
  }
 ],
 "metadata": {
  "kernelspec": {
   "display_name": "Python 2",
   "language": "python",
   "name": "python2"
  },
  "language_info": {
   "codemirror_mode": {
    "name": "ipython",
    "version": 2
   },
   "file_extension": ".py",
   "mimetype": "text/x-python",
   "name": "python",
   "nbconvert_exporter": "python",
   "pygments_lexer": "ipython2",
   "version": "2.7.13"
  }
 },
 "nbformat": 4,
 "nbformat_minor": 2
}
