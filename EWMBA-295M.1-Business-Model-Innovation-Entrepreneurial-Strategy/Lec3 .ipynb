{
 "cells": [
  {
   "cell_type": "markdown",
   "metadata": {},
   "source": [
    "### Robinhood\n",
    "* freemium subscription instead of fees\n",
    "* changing customer acquisition strategy - ** this is the dominant disruption strategy in the valley atm**\n",
    "\n",
    "\n",
    "## Yale Investment Trust case\n",
    "* big university endowment\n",
    "* cutomer of the Trust is the board of trustees @ Yale\n",
    "* value proposition:\n",
    "    1. higher rate of return\n",
    "    2. consistency\n",
    "    3. security\n",
    "* key partners: fund managers - lots of them to diversify risk\n",
    "* channel is direct and long term\n",
    "* key resources is money\n",
    "* key activities: (buy rather than build) find $\\alpha$ makers who make super star returns\n",
    "* revenue is the returns from the investments"
   ]
  },
  {
   "cell_type": "markdown",
   "metadata": {},
   "source": [
    "## Sequoia\n",
    "* VC firm\n",
    "* revenue is fee and carry\n",
    "* channel is direct\n",
    "* key activity is looking for companies to invest\n",
    "* key resources is the best deal flow and money\n",
    "* customer segment:\n",
    "    1. LP \n",
    "    2. startups\n",
    "    3. GPs\n",
    "* value proposition: high returns"
   ]
  },
  {
   "cell_type": "markdown",
   "metadata": {},
   "source": [
    "## Airbnb\n",
    "* **how it started** - stole hosts from other services\n",
    "* key partner is VC\n",
    "* customers are the renters and hosts\n",
    "* value proposition\n",
    "    * to renters: unique housing\n",
    "    * to hosts: income\n",
    "* channel - direct, internet\n",
    "* customer relationships - hopefully long term\n",
    "* key resources: 4.4B in the bank\n",
    "* revenue - commission (2% from renters and 10% from hosts)\n",
    "* key activities: host community, operations\n"
   ]
  },
  {
   "cell_type": "markdown",
   "metadata": {},
   "source": [
    "### How can we get rid of VCs?\n",
    "* Yale Investment Trust -> Sequoia -> Airbnb\n",
    "    * why can't we get rid of the middleman?\n",
    "* can you get rid of it? (it's been around for 500 years)\n",
    "* can you compete in the internal mechanics if you can't get rid of it? e.g. andreessen horowitz - to provide lots of services to help startup succeed"
   ]
  },
  {
   "cell_type": "markdown",
   "metadata": {},
   "source": []
  }
 ],
 "metadata": {
  "kernelspec": {
   "display_name": "Python 2",
   "language": "python",
   "name": "python2"
  },
  "language_info": {
   "codemirror_mode": {
    "name": "ipython",
    "version": 2
   },
   "file_extension": ".py",
   "mimetype": "text/x-python",
   "name": "python",
   "nbconvert_exporter": "python",
   "pygments_lexer": "ipython2",
   "version": "2.7.13"
  }
 },
 "nbformat": 4,
 "nbformat_minor": 2
}
