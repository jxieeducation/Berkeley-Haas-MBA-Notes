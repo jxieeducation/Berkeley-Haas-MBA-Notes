{
 "cells": [
  {
   "cell_type": "markdown",
   "metadata": {},
   "source": [
    "* why don't people network more?\n",
    "    * ick factor\n",
    "    * effort\n",
    "    * undervalue importance\n",
    "    * dislike importance\n",
    "* social capital\n",
    "    * good performance evaluations\n",
    "    * salary\n",
    "    * organization level\n",
    "    * career satisfaction\n",
    "* Networking\n",
    "    * relationship building\n",
    "* brokerage and efficiency\n",
    "\n",
    "### information flow in a network\n",
    "* information access\n",
    "    * early, private, diverse\n",
    "* diverse skill set access\n",
    "* enhanced creativity\n",
    "    * import old information into new domain\n",
    "    * bring unconnected information together in new ways\n",
    "    * bring people with diff info / pov together\n",
    "    "
   ]
  },
  {
   "cell_type": "markdown",
   "metadata": {},
   "source": [
    "* brokerage\n",
    "    * structural hole: if we remove someone, will network change?\n",
    "* opposite of weak ties - closure\n",
    "    * trust, small, tight knit group"
   ]
  },
  {
   "cell_type": "markdown",
   "metadata": {},
   "source": [
    "### how to network\n",
    "* care about one another to build authentic relationships\n",
    "* just try to build a connection\n",
    "* perceived similarity: we like people who remind us of ourselves\n",
    "    * similarity of age, traits, life-style, background, politices, attitudes\n",
    "    * mirror and match body language and conversational style\n",
    "    * look like us\n",
    "    * **key is to find what the similarity is, and bring attention to it**\n",
    "* propinquity effect - \"nearness of you\"\n",
    "    * the more we see and interact with someone, the more likely we are to become friends\n",
    "    * exposure and familiarity\n",
    "    * contact and cooperation\n",
    "    * be in the \"right place\"\n",
    "* building authentic relationships\n",
    "    * reciprocal liking\n",
    "    * seeing the best in others\n",
    "    * compliments\n",
    "* reciprocity\n",
    "    * favors - need to feel special, not economic\n",
    "* summary:\n",
    "    * follow up / keep in touch with people\n",
    "    * do favors for others\n",
    "    * ask others for favors even small ones\n",
    "    * best case: anticipate someone else's need and offer them favor before being asked\n",
    "    * worse case: do not deamnd payback\n",
    "    * favors are better than money and build ongoing relationships with others that have no noticeable end and may simply escalate network strenght\n",
    "    * use ties to break into new circles"
   ]
  },
  {
   "cell_type": "markdown",
   "metadata": {},
   "source": []
  }
 ],
 "metadata": {
  "kernelspec": {
   "display_name": "Python 2",
   "language": "python",
   "name": "python2"
  },
  "language_info": {
   "codemirror_mode": {
    "name": "ipython",
    "version": 2
   },
   "file_extension": ".py",
   "mimetype": "text/x-python",
   "name": "python",
   "nbconvert_exporter": "python",
   "pygments_lexer": "ipython2",
   "version": "2.7.13"
  }
 },
 "nbformat": 4,
 "nbformat_minor": 2
}
