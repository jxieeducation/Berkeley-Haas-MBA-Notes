{
 "cells": [
  {
   "cell_type": "markdown",
   "metadata": {},
   "source": [
    "* **signed thank you notes**\n",
    "* presentation 1: \n",
    "    * Enterprise companies focus a lot on domain knowledge\n",
    "    * startups with high growth rates, often look for ppl with niche skills (poor in others), in order to say that they are hiring talents\n",
    "    * BATNA - negotiation class\n",
    "    * gaining leverage\n",
    "        * knopwledge as power - understand entire system. painstaking. establishes credibility. leads to other types of power - referent and network power\n",
    "        * invest in EQ\n",
    "        * take early initiative in key projects (you have the option of creating barrier to gaining knowledge). Find the blue ocean."
   ]
  },
  {
   "cell_type": "markdown",
   "metadata": {},
   "source": [
    "* **kuzushi** - from judo\n",
    "* gain perceived legitimate authority\n",
    "* \"It pays to periodically access the environment. Remember the intrinsic values that get you out of bed\"\n",
    "* **obbehavior@gmail.com**"
   ]
  },
  {
   "cell_type": "markdown",
   "metadata": {},
   "source": []
  },
  {
   "cell_type": "markdown",
   "metadata": {},
   "source": []
  }
 ],
 "metadata": {
  "kernelspec": {
   "display_name": "Python 2",
   "language": "python",
   "name": "python2"
  },
  "language_info": {
   "codemirror_mode": {
    "name": "ipython",
    "version": 2
   },
   "file_extension": ".py",
   "mimetype": "text/x-python",
   "name": "python",
   "nbconvert_exporter": "python",
   "pygments_lexer": "ipython2",
   "version": "2.7.13"
  }
 },
 "nbformat": 4,
 "nbformat_minor": 2
}
