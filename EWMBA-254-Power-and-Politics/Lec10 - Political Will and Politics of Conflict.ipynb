{
 "cells": [
  {
   "cell_type": "markdown",
   "metadata": {},
   "source": [
    "### quotes\n",
    "* the golden rule of negotiation - make it extremely easy for other people to give you what you want"
   ]
  },
  {
   "cell_type": "markdown",
   "metadata": {},
   "source": [
    "* people think of conflict as negative\n",
    "* change means conflict\n",
    "    * if you can't get it implemented, it's not the best solution\n",
    "    * the technically best solution may not be politically feasible\n",
    "    * the solution you can implement and that is good enough is the right solution\n",
    "* conflict definition - when someone believes that some other party will negatively affect something that he/she cares about\n",
    "* conflict's effect on performance, U-shaped, best to have some conflict\n",
    "* types of conflict\n",
    "    * task oriented - can be positive\n",
    "    * personal conflict - never good"
   ]
  },
  {
   "cell_type": "markdown",
   "metadata": {},
   "source": [
    "### how to handle conflict\n",
    "* don't be personal\n",
    "* explain pov and big picture and work with them to solve it"
   ]
  },
  {
   "cell_type": "markdown",
   "metadata": {},
   "source": [
    "* major approaches to handling conflict\n",
    "    * x - concerns about other's outcome, y - concerns about own outcome\n",
    "    * lower left - avoidance\n",
    "    * upper left - competing\n",
    "    * bottom right - accomodating\n",
    "    * upper right - collaboration\n",
    "    * and lastly compromise\n",
    "    * **most people rely on 2 modes**"
   ]
  },
  {
   "cell_type": "markdown",
   "metadata": {},
   "source": [
    "### problems with each approach\n",
    "* avoidance - people make you replaceable and get you out of the equation\n",
    "* accomodating - doormat\n",
    "* competing - world is not a 0 sum game\n",
    "    * people don't want to deal with them\n",
    "* collaboration - people try to get win/win, but also takes a lot of effort\n",
    "* compromise - split the differences\n",
    "    * not always feasible - e.g. dating soemone vegetarian, can't go to vegetarian restaurants half the time"
   ]
  },
  {
   "cell_type": "markdown",
   "metadata": {},
   "source": [
    "### how to start a conflict\n",
    "* search for truth and being right \n",
    "* making it personal\n",
    "* being \"rational\""
   ]
  },
  {
   "cell_type": "markdown",
   "metadata": {},
   "source": [
    "### active listening\n",
    "* empathy - how they SEE the situation, understand their pov\n",
    "* acceptance - respect for other person b/c they are a person\n",
    "* authenticity - genuineness\n",
    "* immediacy behaviors - nodding, show that you understand\n",
    "* concreteness - focus on specifics, vagueness is a defense, e.g. all managers in this org sucks vs bob handled this poorly"
   ]
  },
  {
   "cell_type": "markdown",
   "metadata": {},
   "source": [
    "### reflection\n",
    "* reflective listening - show that you were listening by restating and clarifying what they said or meant\n",
    "* try to understand what they are saying / feeling / how they see situation\n",
    "    * **make sure that they understand that you care about them**"
   ]
  }
 ],
 "metadata": {
  "kernelspec": {
   "display_name": "Python 2",
   "language": "python",
   "name": "python2"
  },
  "language_info": {
   "codemirror_mode": {
    "name": "ipython",
    "version": 2
   },
   "file_extension": ".py",
   "mimetype": "text/x-python",
   "name": "python",
   "nbconvert_exporter": "python",
   "pygments_lexer": "ipython2",
   "version": "2.7.13"
  }
 },
 "nbformat": 4,
 "nbformat_minor": 2
}
