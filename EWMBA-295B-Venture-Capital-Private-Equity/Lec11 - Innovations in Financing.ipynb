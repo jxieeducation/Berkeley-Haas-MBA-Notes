{
 "cells": [
  {
   "cell_type": "markdown",
   "metadata": {},
   "source": [
    "## Interesting quotes\n",
    "* 20 years ago, I told my mom that I'm a banker, because I'm too lazy to explain what a VC is. Now my 16 year old son can be a VC, because he can fund a kickstarter\n"
   ]
  },
  {
   "cell_type": "markdown",
   "metadata": {},
   "source": [
    "## A16Z\n",
    "* lots of professional services - to attract\n",
    "* keep CEO - personal, leads to higher returns\n",
    "* marketing gsu?\n",
    "* operate via corporate structure\n",
    "* higher carry\n",
    "* not democratic - find winners\n",
    "* want strengths, not lack of weaknesses - returns\n",
    "* big money\n",
    "* seed to late stage - big"
   ]
  },
  {
   "cell_type": "markdown",
   "metadata": {},
   "source": [
    "## First Round\n",
    "* crowdsourcing partners\n",
    "* exchange fund \n",
    "* dorm room fund\n",
    "* [article](https://bothsidesofthetable.com/want-to-know-how-first-round-capital-was-started-63d70762ea15)"
   ]
  },
  {
   "cell_type": "markdown",
   "metadata": {},
   "source": [
    "## 500 startups\n",
    "* small money, lots \n",
    "* early, sell to big VC\n",
    "* buying pro rata, options rights"
   ]
  },
  {
   "cell_type": "markdown",
   "metadata": {},
   "source": [
    "## YC\n",
    "* 3 months course - add value\n",
    "* demo day\n",
    "* follow on fund - make money\n",
    "* branding"
   ]
  },
  {
   "cell_type": "markdown",
   "metadata": {},
   "source": [
    "## Scott Kupor - A16Z, HP, LoudCloud\n",
    "* A16Z started in 2008, where money was scarce\n",
    "* LoudCloud is basically AWS for its day\n",
    "* YC educated industry about how VC works and in a way democratized VC\n",
    "* what's the most important task of the board? hire and fire the CEO\n",
    "* 6.5B currently under management, 500 employees\n",
    "* org structure:\n",
    "    1. GP\n",
    "    2. associates / research\n",
    "    3. operating team (90 ppl ish)\n",
    "* there're no promotions in company, from associates to GP\n",
    "* avoid politics, but lots of turn over\n",
    "* 1 person can champion a deal, to avoid group think\n",
    "* GP can be fired w/o a committee\n",
    "* how do we work w/ other VCs? Ignore the free riders problem, think of it as marketing \n",
    "* what are patterns of deals that you lose? entrepreneurs who don't buy into the professional services style of VC \n",
    "* uses operations team during pre-sales\n",
    "    * identify startups that will be important, add value to them"
   ]
  },
  {
   "cell_type": "code",
   "execution_count": null,
   "metadata": {
    "collapsed": true
   },
   "outputs": [],
   "source": []
  }
 ],
 "metadata": {
  "kernelspec": {
   "display_name": "Python 2",
   "language": "python",
   "name": "python2"
  },
  "language_info": {
   "codemirror_mode": {
    "name": "ipython",
    "version": 2
   },
   "file_extension": ".py",
   "mimetype": "text/x-python",
   "name": "python",
   "nbconvert_exporter": "python",
   "pygments_lexer": "ipython2",
   "version": "2.7.13"
  }
 },
 "nbformat": 4,
 "nbformat_minor": 2
}
