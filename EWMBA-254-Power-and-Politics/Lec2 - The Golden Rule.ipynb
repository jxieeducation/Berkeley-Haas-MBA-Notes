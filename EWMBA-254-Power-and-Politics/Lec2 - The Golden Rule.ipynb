{
 "cells": [
  {
   "cell_type": "markdown",
   "metadata": {},
   "source": [
    "* Moses - started in politics for civil reform and got crushed\n",
    "* sources of power\n",
    "    * leverage Al Smith\n",
    "        * Bill - sleeper, allowed him to condemn private property\n",
    "    * normal people were on his side for parks and recreation\n",
    "    * understood law system\n",
    "    * archetyle of carrot and stick\n",
    "* where does power come from?\n",
    "    * classifc approach - basic power\n",
    "    * **power is having something other people need and it's unavailable / nonsubstitutable **\n",
    "    * don't think like an economist, when it comes to power, fight for your share\n",
    "* power palette:\n",
    "    * reward power (first 2 is basically carrot and stick)\n",
    "    * coerce power\n",
    "    * legit authority\n",
    "    * expertise / information power\n",
    "    * referent power\n",
    "        * charisma\n",
    "    * network power\n",
    "    * vision (symbols, values)"
   ]
  },
  {
   "cell_type": "markdown",
   "metadata": {},
   "source": [
    "* Robert Moses put in a sleeper in the bill that allows him to condemn (used very old definition) private properties\n",
    "* he gave people information and contract for votes"
   ]
  },
  {
   "cell_type": "markdown",
   "metadata": {},
   "source": [
    "### game of red and black\n",
    "* 26 red + 26 black\n",
    "* each red + black is 100, otherwise 0\n",
    "* if there are 26 and 26, then a good settlement is to split evenly 50/50\n",
    "* however, if there are 23 and 26, people (without communicating) with start dropping price like crazy\n",
    "\n",
    "### baseball team (only 23) vs stadium\n",
    "* baseball team has more power than stadium\n",
    "* less baseball teams than stadiums\n"
   ]
  },
  {
   "cell_type": "markdown",
   "metadata": {},
   "source": [
    "* power is not a characteristic of a person, but relational. It's dynamic as well.\n",
    "* people hate uncertainty. If you make uncertainty go away, you lose pwoer. But if you make uncertainty mitigate regularly, you have power.\n",
    "* ** law of effect **: any behavior followed by positive reward is more likely to happened in the future; vise versa\n",
    "* avoid eliciting **kuzishi** (resisting change)\n",
    "    * don't fight the system\n",
    "* ** the golden rule of negotiation is to make it as easy as possible for someone to say yes**\n",
    "* tic for tac - how to treat people\n",
    "    * an equivalent is given"
   ]
  },
  {
   "cell_type": "markdown",
   "metadata": {},
   "source": []
  }
 ],
 "metadata": {
  "kernelspec": {
   "display_name": "Python 2",
   "language": "python",
   "name": "python2"
  },
  "language_info": {
   "codemirror_mode": {
    "name": "ipython",
    "version": 2
   },
   "file_extension": ".py",
   "mimetype": "text/x-python",
   "name": "python",
   "nbconvert_exporter": "python",
   "pygments_lexer": "ipython2",
   "version": "2.7.13"
  }
 },
 "nbformat": 4,
 "nbformat_minor": 2
}
