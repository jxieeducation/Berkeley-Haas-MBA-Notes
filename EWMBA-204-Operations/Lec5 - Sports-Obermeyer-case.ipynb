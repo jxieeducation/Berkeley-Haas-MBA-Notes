{
 "cells": [
  {
   "cell_type": "markdown",
   "metadata": {},
   "source": [
    "* 1a - one production decision, no capacity constraints\n",
    "    * apply newsvendor, one shot deal\n",
    "* 1b - one production decision, limited capacity\n",
    "    * incremental contributon\n",
    "    * $G * P(sell) - L * (1 - P(sell))$\n",
    "* 2 - two decsion periods, limited capacity\n",
    "    * speculative and reactive\n",
    "    * speculative - produce safe products (low variance)\n",
    "    * reactive - produce risky products (high variance)"
   ]
  }
 ],
 "metadata": {
  "kernelspec": {
   "display_name": "Python 2",
   "language": "python",
   "name": "python2"
  },
  "language_info": {
   "codemirror_mode": {
    "name": "ipython",
    "version": 2
   },
   "file_extension": ".py",
   "mimetype": "text/x-python",
   "name": "python",
   "nbconvert_exporter": "python",
   "pygments_lexer": "ipython2",
   "version": "2.7.13"
  }
 },
 "nbformat": 4,
 "nbformat_minor": 2
}
